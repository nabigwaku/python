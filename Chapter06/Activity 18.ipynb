{
 "cells": [
  {
   "cell_type": "code",
   "execution_count": 11,
   "metadata": {},
   "outputs": [],
   "source": [
    "import os\n",
    "import pandas as pd\n",
    "import numpy as np\n",
    "import PIL\n",
    "from PIL import Image\n",
    "import matplotlib.pyplot as plt\n",
    "from sklearn.preprocessing import LabelBinarizer\n",
    "from sklearn.metrics import accuracy_score\n",
    "from tqdm import tqdm\n",
    "from random import shuffle\n",
    "import random\n",
    "\n",
    "from keras.datasets import cifar10\n",
    "from keras.models import Model, Sequential\n",
    "from keras.layers import Input, Dense, Concatenate, Reshape, Dropout, Conv2D, MaxPool2D, Flatten, BatchNormalization\n",
    "from keras.layers.embeddings import Embedding\n",
    "from keras.callbacks import ModelCheckpoint, EarlyStopping\n",
    "from keras.preprocessing.image import ImageDataGenerator"
   ]
  },
  {
   "cell_type": "code",
   "execution_count": 107,
   "metadata": {},
   "outputs": [],
   "source": [
    "SIZE = 50\n",
    "EPOCHS = 10\n",
    "BATCH_SIZE = 128"
   ]
  },
  {
   "cell_type": "code",
   "execution_count": 3,
   "metadata": {},
   "outputs": [],
   "source": [
    "PATH = 'C:/Users/Maedr3/Documents/packt/chapter 7/data/dogs-vs-cats/train/'"
   ]
  },
  {
   "cell_type": "code",
   "execution_count": 135,
   "metadata": {},
   "outputs": [],
   "source": [
    "def get_input(file):\n",
    "    return Image.open(PATH+file)"
   ]
  },
  {
   "cell_type": "code",
   "execution_count": 122,
   "metadata": {},
   "outputs": [],
   "source": [
    "def get_output(file):\n",
    "    class_label = file.split('.')[0]\n",
    "    if class_label == 'dog': label_vector = [1,0]\n",
    "    elif class_label == 'cat': label_vector = [0,1]\n",
    "    return label_vector"
   ]
  },
  {
   "cell_type": "code",
   "execution_count": 19,
   "metadata": {},
   "outputs": [],
   "source": [
    "def random_horizontal_flip(image):\n",
    "    toss = random.randint(1, 2)\n",
    "    if toss == 1:\n",
    "        return image.transpose(Image.FLIP_LEFT_RIGHT)\n",
    "    else:\n",
    "        return image"
   ]
  },
  {
   "cell_type": "code",
   "execution_count": 25,
   "metadata": {},
   "outputs": [],
   "source": [
    "def random_rotate(image, rot_range):\n",
    "    value = random.randint(-rot_range,rot_range)\n",
    "    return image.rotate(value)"
   ]
  },
  {
   "cell_type": "code",
   "execution_count": 173,
   "metadata": {},
   "outputs": [],
   "source": [
    "def random_horizontal_shift(image, shift):\n",
    "    width, height = image.size\n",
    "    rand_shift = random.randint(0,shift*width)\n",
    "    image = PIL.ImageChops.offset(image, rand_shift, 0)\n",
    "    image.paste((0), (0, 0, rand_shift, height))\n",
    "    return image"
   ]
  },
  {
   "cell_type": "code",
   "execution_count": 174,
   "metadata": {},
   "outputs": [],
   "source": [
    "def random_vertical_shift(image, shift):\n",
    "    width, height = image.size\n",
    "    rand_shift = random.randint(0,shift*height)\n",
    "    image = PIL.ImageChops.offset(image, 0, rand_shift)\n",
    "    image.paste((0), (0, 0, width, rand_shift))\n",
    "    return image"
   ]
  },
  {
   "cell_type": "code",
   "execution_count": 196,
   "metadata": {},
   "outputs": [],
   "source": [
    "def preprocess_input(image):\n",
    "    \n",
    "    # Data preprocessing\n",
    "    image = image.convert('L')\n",
    "    image = image.resize((SIZE,SIZE))\n",
    "    \n",
    "    \n",
    "    # Data augmentation\n",
    "    random_vertical_shift(image, shift=0.2)\n",
    "    random_horizontal_shift(image, shift=0.2)\n",
    "    random_rotate(image, rot_range=45)\n",
    "    random_horizontal_flip(image)\n",
    "    \n",
    "    return np.array(image).reshape(SIZE,SIZE,1)"
   ]
  },
  {
   "cell_type": "code",
   "execution_count": 225,
   "metadata": {},
   "outputs": [],
   "source": [
    "def custom_image_generator(images, batch_size = 128):\n",
    "    \n",
    "    while True:\n",
    "        # Randomly select images for the batch\n",
    "        batch_images = np.random.choice(images, size = batch_size)\n",
    "        batch_input = []\n",
    "        batch_output = [] \n",
    "        \n",
    "        # Read image, perform preprocessing and get labels\n",
    "        for file in batch_images:\n",
    "            # Function that reads and returns the image\n",
    "            input_image = get_input(file)\n",
    "            # Function that gets the label of the image\n",
    "            label = get_output(file)\n",
    "            # Function that pre-processes and augments the image\n",
    "            image = preprocess_input(input_image)\n",
    "\n",
    "            batch_input.append(image)\n",
    "            batch_output.append(label)\n",
    "\n",
    "        batch_x = np.array(batch_input)\n",
    "        batch_y = np.array(batch_output)\n",
    "\n",
    "        # Return a tuple of (images,labels) to feed the network\n",
    "        yield(batch_x, batch_y)\n"
   ]
  },
  {
   "cell_type": "code",
   "execution_count": 212,
   "metadata": {},
   "outputs": [],
   "source": [
    "def get_label(file):\n",
    "    class_label = file.split('.')[0]\n",
    "    if class_label == 'dog': label_vector = [1,0]\n",
    "    elif class_label == 'cat': label_vector = [0,1]\n",
    "    return label_vector"
   ]
  },
  {
   "cell_type": "code",
   "execution_count": 219,
   "metadata": {},
   "outputs": [],
   "source": [
    "def get_data(files):\n",
    "    data_image = []\n",
    "    labels = []\n",
    "    for image in tqdm(files):\n",
    "        \n",
    "        label_vector = get_label(image)\n",
    "        \n",
    "\n",
    "        img = Image.open(PATH + image).convert('L')\n",
    "        img = img.resize((SIZE,SIZE))\n",
    "        \n",
    "       \n",
    "        labels.append(label_vector)\n",
    "        data_image.append(np.asarray(img).reshape(SIZE,SIZE,1))\n",
    "        \n",
    "    data_x = np.array(data_image)\n",
    "    data_y = np.array(labels)\n",
    "        \n",
    "    return (data_x, data_y)"
   ]
  },
  {
   "cell_type": "code",
   "execution_count": 71,
   "metadata": {},
   "outputs": [],
   "source": [
    "files = os.listdir(PATH)"
   ]
  },
  {
   "cell_type": "code",
   "execution_count": 102,
   "metadata": {},
   "outputs": [],
   "source": [
    "random.shuffle(files)"
   ]
  },
  {
   "cell_type": "code",
   "execution_count": 103,
   "metadata": {},
   "outputs": [],
   "source": [
    "train = files[:7000]\n",
    "test = files[7000:]"
   ]
  },
  {
   "cell_type": "code",
   "execution_count": 221,
   "metadata": {},
   "outputs": [
    {
     "name": "stderr",
     "output_type": "stream",
     "text": [
      "100%|██████████| 3000/3000 [00:14<00:00, 208.86it/s]\n"
     ]
    }
   ],
   "source": [
    "validation_data = get_data(test)"
   ]
  },
  {
   "cell_type": "code",
   "execution_count": 246,
   "metadata": {},
   "outputs": [
    {
     "name": "stdout",
     "output_type": "stream",
     "text": [
      "_________________________________________________________________\n",
      "Layer (type)                 Output Shape              Param #   \n",
      "=================================================================\n",
      "conv2d_17 (Conv2D)           (None, 50, 50, 48)        480       \n",
      "_________________________________________________________________\n",
      "conv2d_18 (Conv2D)           (None, 48, 48, 48)        20784     \n",
      "_________________________________________________________________\n",
      "max_pooling2d_9 (MaxPooling2 (None, 24, 24, 48)        0         \n",
      "_________________________________________________________________\n",
      "batch_normalization_9 (Batch (None, 24, 24, 48)        192       \n",
      "_________________________________________________________________\n",
      "dropout_17 (Dropout)         (None, 24, 24, 48)        0         \n",
      "_________________________________________________________________\n",
      "flatten_9 (Flatten)          (None, 27648)             0         \n",
      "_________________________________________________________________\n",
      "dense_17 (Dense)             (None, 512)               14156288  \n",
      "_________________________________________________________________\n",
      "dropout_18 (Dropout)         (None, 512)               0         \n",
      "_________________________________________________________________\n",
      "dense_18 (Dense)             (None, 2)                 1026      \n",
      "=================================================================\n",
      "Total params: 14,178,770\n",
      "Trainable params: 14,178,674\n",
      "Non-trainable params: 96\n",
      "_________________________________________________________________\n"
     ]
    }
   ],
   "source": [
    "model = Sequential()\n",
    "    \n",
    "model.add(Conv2D(48, (3, 3), activation='relu', padding='same', input_shape=(50,50,1)))    \n",
    "model.add(Conv2D(48, (3, 3), activation='relu'))    \n",
    "model.add(MaxPool2D(pool_size=(2, 2)))\n",
    "model.add(BatchNormalization())\n",
    "model.add(Dropout(0.10))\n",
    "\n",
    "model.add(Flatten())\n",
    "\n",
    "model.add(Dense(512, activation='relu'))\n",
    "model.add(Dropout(0.5))\n",
    "\n",
    "model.add(Dense(2, activation='softmax'))\n",
    "\n",
    "model.summary()"
   ]
  },
  {
   "cell_type": "code",
   "execution_count": 247,
   "metadata": {},
   "outputs": [],
   "source": [
    "model.compile(loss='categorical_crossentropy', \n",
    "              optimizer='adam',\n",
    "              metrics = ['accuracy'])"
   ]
  },
  {
   "cell_type": "code",
   "execution_count": 248,
   "metadata": {},
   "outputs": [
    {
     "name": "stdout",
     "output_type": "stream",
     "text": [
      "Epoch 1/10\n",
      "54/54 [==============================] - ETA: 5:59 - loss: 1.1141 - acc: 0.523 - ETA: 4:24 - loss: 2.9537 - acc: 0.550 - ETA: 3:45 - loss: 3.5541 - acc: 0.559 - ETA: 3:23 - loss: 4.1811 - acc: 0.548 - ETA: 3:07 - loss: 4.3504 - acc: 0.567 - ETA: 2:57 - loss: 4.5880 - acc: 0.565 - ETA: 2:49 - loss: 4.8751 - acc: 0.560 - ETA: 2:42 - loss: 5.0331 - acc: 0.563 - ETA: 2:35 - loss: 4.9632 - acc: 0.576 - ETA: 2:29 - loss: 5.0130 - acc: 0.577 - ETA: 2:24 - loss: 4.9764 - acc: 0.578 - ETA: 2:19 - loss: 4.9582 - acc: 0.578 - ETA: 2:14 - loss: 4.8841 - acc: 0.581 - ETA: 2:11 - loss: 4.7889 - acc: 0.584 - ETA: 2:07 - loss: 4.6483 - acc: 0.589 - ETA: 2:03 - loss: 4.5476 - acc: 0.588 - ETA: 1:59 - loss: 4.5345 - acc: 0.581 - ETA: 1:56 - loss: 4.4124 - acc: 0.582 - ETA: 1:52 - loss: 4.3171 - acc: 0.583 - ETA: 1:48 - loss: 4.2261 - acc: 0.584 - ETA: 1:44 - loss: 4.1233 - acc: 0.587 - ETA: 1:41 - loss: 4.0010 - acc: 0.591 - ETA: 1:37 - loss: 3.9068 - acc: 0.593 - ETA: 1:34 - loss: 3.8014 - acc: 0.599 - ETA: 1:31 - loss: 3.6991 - acc: 0.601 - ETA: 1:27 - loss: 3.5948 - acc: 0.604 - ETA: 1:24 - loss: 3.4999 - acc: 0.606 - ETA: 1:21 - loss: 3.4169 - acc: 0.606 - ETA: 1:17 - loss: 3.3299 - acc: 0.608 - ETA: 1:14 - loss: 3.2691 - acc: 0.607 - ETA: 1:11 - loss: 3.2010 - acc: 0.608 - ETA: 1:08 - loss: 3.1298 - acc: 0.608 - ETA: 1:04 - loss: 3.0605 - acc: 0.611 - ETA: 1:01 - loss: 2.9892 - acc: 0.614 - ETA: 58s - loss: 2.9246 - acc: 0.617 - ETA: 55s - loss: 2.8755 - acc: 0.61 - ETA: 52s - loss: 2.8182 - acc: 0.62 - ETA: 49s - loss: 2.7671 - acc: 0.62 - ETA: 46s - loss: 2.7128 - acc: 0.62 - ETA: 43s - loss: 2.6710 - acc: 0.62 - ETA: 39s - loss: 2.6241 - acc: 0.62 - ETA: 36s - loss: 2.5834 - acc: 0.62 - ETA: 33s - loss: 2.5406 - acc: 0.62 - ETA: 30s - loss: 2.4984 - acc: 0.62 - ETA: 27s - loss: 2.4552 - acc: 0.62 - ETA: 24s - loss: 2.4165 - acc: 0.62 - ETA: 21s - loss: 2.3792 - acc: 0.63 - ETA: 18s - loss: 2.3441 - acc: 0.63 - ETA: 15s - loss: 2.3107 - acc: 0.63 - ETA: 12s - loss: 2.2766 - acc: 0.63 - ETA: 9s - loss: 2.2455 - acc: 0.6347 - ETA: 6s - loss: 2.2190 - acc: 0.634 - ETA: 3s - loss: 2.1890 - acc: 0.636 - 183s 3s/step - loss: 2.1602 - acc: 0.6361 - val_loss: 1.8501 - val_acc: 0.5773\n",
      "Epoch 2/10\n",
      "54/54 [==============================] - ETA: 2:32 - loss: 0.7620 - acc: 0.601 - ETA: 2:29 - loss: 0.6676 - acc: 0.644 - ETA: 2:24 - loss: 0.6404 - acc: 0.645 - ETA: 2:20 - loss: 0.6718 - acc: 0.648 - ETA: 2:18 - loss: 0.6834 - acc: 0.650 - ETA: 2:16 - loss: 0.6758 - acc: 0.651 - ETA: 2:13 - loss: 0.6612 - acc: 0.660 - ETA: 2:11 - loss: 0.6657 - acc: 0.672 - ETA: 2:08 - loss: 0.6695 - acc: 0.669 - ETA: 2:04 - loss: 0.6606 - acc: 0.668 - ETA: 2:02 - loss: 0.6549 - acc: 0.671 - ETA: 1:59 - loss: 0.6453 - acc: 0.676 - ETA: 1:56 - loss: 0.6450 - acc: 0.675 - ETA: 1:53 - loss: 0.6393 - acc: 0.675 - ETA: 1:50 - loss: 0.6377 - acc: 0.676 - ETA: 1:47 - loss: 0.6358 - acc: 0.677 - ETA: 1:44 - loss: 0.6384 - acc: 0.678 - ETA: 1:41 - loss: 0.6436 - acc: 0.678 - ETA: 1:38 - loss: 0.6394 - acc: 0.681 - ETA: 1:35 - loss: 0.6362 - acc: 0.681 - ETA: 1:32 - loss: 0.6310 - acc: 0.684 - ETA: 1:29 - loss: 0.6300 - acc: 0.685 - ETA: 1:26 - loss: 0.6309 - acc: 0.688 - ETA: 1:24 - loss: 0.6282 - acc: 0.691 - ETA: 1:21 - loss: 0.6243 - acc: 0.693 - ETA: 1:18 - loss: 0.6180 - acc: 0.698 - ETA: 1:15 - loss: 0.6143 - acc: 0.699 - ETA: 1:12 - loss: 0.6143 - acc: 0.701 - ETA: 1:09 - loss: 0.6108 - acc: 0.704 - ETA: 1:07 - loss: 0.6057 - acc: 0.706 - ETA: 1:04 - loss: 0.6048 - acc: 0.706 - ETA: 1:01 - loss: 0.6019 - acc: 0.708 - ETA: 58s - loss: 0.5990 - acc: 0.710 - ETA: 55s - loss: 0.5943 - acc: 0.71 - ETA: 52s - loss: 0.5938 - acc: 0.71 - ETA: 50s - loss: 0.5891 - acc: 0.71 - ETA: 47s - loss: 0.5883 - acc: 0.71 - ETA: 44s - loss: 0.5887 - acc: 0.71 - ETA: 41s - loss: 0.5857 - acc: 0.71 - ETA: 38s - loss: 0.5824 - acc: 0.71 - ETA: 36s - loss: 0.5795 - acc: 0.72 - ETA: 33s - loss: 0.5776 - acc: 0.72 - ETA: 30s - loss: 0.5741 - acc: 0.72 - ETA: 27s - loss: 0.5721 - acc: 0.72 - ETA: 24s - loss: 0.5706 - acc: 0.72 - ETA: 22s - loss: 0.5697 - acc: 0.72 - ETA: 19s - loss: 0.5667 - acc: 0.72 - ETA: 16s - loss: 0.5656 - acc: 0.72 - ETA: 13s - loss: 0.5634 - acc: 0.73 - ETA: 11s - loss: 0.5610 - acc: 0.73 - ETA: 8s - loss: 0.5600 - acc: 0.7350 - ETA: 5s - loss: 0.5572 - acc: 0.736 - ETA: 2s - loss: 0.5543 - acc: 0.737 - 167s 3s/step - loss: 0.5542 - acc: 0.7389 - val_loss: 1.0542 - val_acc: 0.6270\n",
      "Epoch 3/10\n",
      "54/54 [==============================] - ETA: 2:21 - loss: 0.5469 - acc: 0.750 - ETA: 2:20 - loss: 0.5229 - acc: 0.730 - ETA: 2:20 - loss: 0.5050 - acc: 0.750 - ETA: 2:18 - loss: 0.4981 - acc: 0.755 - ETA: 2:15 - loss: 0.5041 - acc: 0.746 - ETA: 2:16 - loss: 0.5073 - acc: 0.746 - ETA: 2:12 - loss: 0.4909 - acc: 0.752 - ETA: 2:09 - loss: 0.4980 - acc: 0.752 - ETA: 2:06 - loss: 0.5009 - acc: 0.754 - ETA: 2:03 - loss: 0.4947 - acc: 0.757 - ETA: 2:00 - loss: 0.4884 - acc: 0.759 - ETA: 1:57 - loss: 0.4811 - acc: 0.766 - ETA: 1:53 - loss: 0.4848 - acc: 0.765 - ETA: 1:50 - loss: 0.4845 - acc: 0.766 - ETA: 1:48 - loss: 0.4831 - acc: 0.769 - ETA: 1:45 - loss: 0.4764 - acc: 0.774 - ETA: 1:42 - loss: 0.4761 - acc: 0.775 - ETA: 1:39 - loss: 0.4761 - acc: 0.774 - ETA: 1:36 - loss: 0.4711 - acc: 0.778 - ETA: 1:33 - loss: 0.4740 - acc: 0.776 - ETA: 1:30 - loss: 0.4713 - acc: 0.777 - ETA: 1:28 - loss: 0.4743 - acc: 0.777 - ETA: 1:25 - loss: 0.4706 - acc: 0.780 - ETA: 1:22 - loss: 0.4656 - acc: 0.782 - ETA: 1:19 - loss: 0.4657 - acc: 0.781 - ETA: 1:16 - loss: 0.4697 - acc: 0.780 - ETA: 1:14 - loss: 0.4695 - acc: 0.779 - ETA: 1:11 - loss: 0.4694 - acc: 0.780 - ETA: 1:08 - loss: 0.4676 - acc: 0.782 - ETA: 1:05 - loss: 0.4654 - acc: 0.783 - ETA: 1:02 - loss: 0.4631 - acc: 0.785 - ETA: 1:00 - loss: 0.4611 - acc: 0.786 - ETA: 57s - loss: 0.4620 - acc: 0.786 - ETA: 54s - loss: 0.4603 - acc: 0.78 - ETA: 52s - loss: 0.4589 - acc: 0.78 - ETA: 49s - loss: 0.4565 - acc: 0.78 - ETA: 46s - loss: 0.4551 - acc: 0.78 - ETA: 43s - loss: 0.4574 - acc: 0.78 - ETA: 41s - loss: 0.4563 - acc: 0.78 - ETA: 38s - loss: 0.4558 - acc: 0.79 - ETA: 35s - loss: 0.4533 - acc: 0.79 - ETA: 32s - loss: 0.4520 - acc: 0.79 - ETA: 30s - loss: 0.4515 - acc: 0.79 - ETA: 27s - loss: 0.4498 - acc: 0.79 - ETA: 24s - loss: 0.4473 - acc: 0.79 - ETA: 21s - loss: 0.4454 - acc: 0.79 - ETA: 19s - loss: 0.4435 - acc: 0.79 - ETA: 16s - loss: 0.4432 - acc: 0.79 - ETA: 13s - loss: 0.4448 - acc: 0.79 - ETA: 10s - loss: 0.4417 - acc: 0.79 - ETA: 8s - loss: 0.4388 - acc: 0.8001 - ETA: 5s - loss: 0.4369 - acc: 0.801 - ETA: 2s - loss: 0.4347 - acc: 0.802 - 165s 3s/step - loss: 0.4337 - acc: 0.8027 - val_loss: 0.7902 - val_acc: 0.6450\n",
      "Epoch 4/10\n",
      "54/54 [==============================] - ETA: 2:29 - loss: 0.3678 - acc: 0.828 - ETA: 2:24 - loss: 0.4056 - acc: 0.828 - ETA: 2:21 - loss: 0.3975 - acc: 0.833 - ETA: 2:17 - loss: 0.3813 - acc: 0.835 - ETA: 2:13 - loss: 0.3801 - acc: 0.829 - ETA: 2:09 - loss: 0.3860 - acc: 0.834 - ETA: 2:07 - loss: 0.3802 - acc: 0.835 - ETA: 2:05 - loss: 0.3773 - acc: 0.834 - ETA: 2:02 - loss: 0.3819 - acc: 0.835 - ETA: 1:59 - loss: 0.3720 - acc: 0.839 - ETA: 1:56 - loss: 0.3748 - acc: 0.835 - ETA: 1:53 - loss: 0.3685 - acc: 0.839 - ETA: 1:51 - loss: 0.3661 - acc: 0.840 - ETA: 1:48 - loss: 0.3657 - acc: 0.841 - ETA: 1:46 - loss: 0.3633 - acc: 0.842 - ETA: 1:43 - loss: 0.3635 - acc: 0.841 - ETA: 1:40 - loss: 0.3688 - acc: 0.840 - ETA: 1:38 - loss: 0.3698 - acc: 0.840 - ETA: 1:35 - loss: 0.3756 - acc: 0.837 - ETA: 1:32 - loss: 0.3777 - acc: 0.838 - ETA: 1:30 - loss: 0.3777 - acc: 0.836 - ETA: 1:27 - loss: 0.3775 - acc: 0.837 - ETA: 1:24 - loss: 0.3751 - acc: 0.838 - ETA: 1:21 - loss: 0.3724 - acc: 0.840 - ETA: 1:18 - loss: 0.3700 - acc: 0.841 - ETA: 1:16 - loss: 0.3671 - acc: 0.842 - ETA: 1:13 - loss: 0.3654 - acc: 0.843 - ETA: 1:10 - loss: 0.3650 - acc: 0.844 - ETA: 1:07 - loss: 0.3639 - acc: 0.844 - ETA: 1:05 - loss: 0.3623 - acc: 0.846 - ETA: 1:02 - loss: 0.3609 - acc: 0.846 - ETA: 59s - loss: 0.3622 - acc: 0.845 - ETA: 57s - loss: 0.3600 - acc: 0.84 - ETA: 54s - loss: 0.3573 - acc: 0.84 - ETA: 51s - loss: 0.3542 - acc: 0.84 - ETA: 49s - loss: 0.3537 - acc: 0.84 - ETA: 46s - loss: 0.3533 - acc: 0.84 - ETA: 43s - loss: 0.3502 - acc: 0.85 - ETA: 40s - loss: 0.3502 - acc: 0.85 - ETA: 38s - loss: 0.3527 - acc: 0.85 - ETA: 35s - loss: 0.3527 - acc: 0.85 - ETA: 32s - loss: 0.3515 - acc: 0.85 - ETA: 30s - loss: 0.3506 - acc: 0.85 - ETA: 27s - loss: 0.3482 - acc: 0.85 - ETA: 24s - loss: 0.3465 - acc: 0.85 - ETA: 21s - loss: 0.3472 - acc: 0.85 - ETA: 19s - loss: 0.3448 - acc: 0.85 - ETA: 16s - loss: 0.3433 - acc: 0.85 - ETA: 13s - loss: 0.3413 - acc: 0.85 - ETA: 10s - loss: 0.3394 - acc: 0.85 - ETA: 8s - loss: 0.3374 - acc: 0.8577 - ETA: 5s - loss: 0.3368 - acc: 0.857 - ETA: 2s - loss: 0.3358 - acc: 0.858 - 165s 3s/step - loss: 0.3339 - acc: 0.8587 - val_loss: 0.7502 - val_acc: 0.6830\n",
      "Epoch 5/10\n",
      "54/54 [==============================] - ETA: 2:31 - loss: 0.3388 - acc: 0.921 - ETA: 2:23 - loss: 0.2669 - acc: 0.941 - ETA: 2:18 - loss: 0.2585 - acc: 0.919 - ETA: 2:14 - loss: 0.2540 - acc: 0.916 - ETA: 2:12 - loss: 0.2397 - acc: 0.917 - ETA: 2:09 - loss: 0.2428 - acc: 0.910 - ETA: 2:07 - loss: 0.2464 - acc: 0.905 - ETA: 2:04 - loss: 0.2488 - acc: 0.906 - ETA: 2:01 - loss: 0.2513 - acc: 0.904 - ETA: 1:58 - loss: 0.2562 - acc: 0.904 - ETA: 1:56 - loss: 0.2570 - acc: 0.904 - ETA: 1:53 - loss: 0.2621 - acc: 0.903 - ETA: 1:51 - loss: 0.2663 - acc: 0.902 - ETA: 1:48 - loss: 0.2665 - acc: 0.902 - ETA: 1:45 - loss: 0.2701 - acc: 0.899 - ETA: 1:42 - loss: 0.2703 - acc: 0.898 - ETA: 1:40 - loss: 0.2716 - acc: 0.896 - ETA: 1:37 - loss: 0.2726 - acc: 0.895 - ETA: 1:34 - loss: 0.2723 - acc: 0.896 - ETA: 1:32 - loss: 0.2719 - acc: 0.894 - ETA: 1:29 - loss: 0.2729 - acc: 0.893 - ETA: 1:26 - loss: 0.2732 - acc: 0.893 - ETA: 1:24 - loss: 0.2784 - acc: 0.892 - ETA: 1:21 - loss: 0.2797 - acc: 0.891 - ETA: 1:18 - loss: 0.2760 - acc: 0.894 - ETA: 1:16 - loss: 0.2751 - acc: 0.895 - ETA: 1:13 - loss: 0.2741 - acc: 0.895 - ETA: 1:10 - loss: 0.2715 - acc: 0.896 - ETA: 1:07 - loss: 0.2715 - acc: 0.895 - ETA: 1:05 - loss: 0.2710 - acc: 0.895 - ETA: 1:02 - loss: 0.2686 - acc: 0.895 - ETA: 59s - loss: 0.2690 - acc: 0.895 - ETA: 56s - loss: 0.2699 - acc: 0.89 - ETA: 54s - loss: 0.2750 - acc: 0.89 - ETA: 51s - loss: 0.2732 - acc: 0.89 - ETA: 48s - loss: 0.2760 - acc: 0.89 - ETA: 46s - loss: 0.2757 - acc: 0.89 - ETA: 43s - loss: 0.2736 - acc: 0.89 - ETA: 40s - loss: 0.2726 - acc: 0.89 - ETA: 37s - loss: 0.2733 - acc: 0.89 - ETA: 35s - loss: 0.2715 - acc: 0.89 - ETA: 32s - loss: 0.2707 - acc: 0.89 - ETA: 29s - loss: 0.2707 - acc: 0.89 - ETA: 27s - loss: 0.2699 - acc: 0.89 - ETA: 24s - loss: 0.2687 - acc: 0.89 - ETA: 21s - loss: 0.2672 - acc: 0.89 - ETA: 19s - loss: 0.2657 - acc: 0.89 - ETA: 16s - loss: 0.2649 - acc: 0.89 - ETA: 13s - loss: 0.2639 - acc: 0.89 - ETA: 10s - loss: 0.2627 - acc: 0.89 - ETA: 8s - loss: 0.2626 - acc: 0.8972 - ETA: 5s - loss: 0.2619 - acc: 0.897 - ETA: 2s - loss: 0.2603 - acc: 0.897 - 164s 3s/step - loss: 0.2589 - acc: 0.8989 - val_loss: 0.7144 - val_acc: 0.6950\n",
      "Epoch 6/10\n",
      "54/54 [==============================] - ETA: 2:20 - loss: 0.1761 - acc: 0.945 - ETA: 2:16 - loss: 0.1763 - acc: 0.941 - ETA: 2:14 - loss: 0.1762 - acc: 0.940 - ETA: 2:13 - loss: 0.1825 - acc: 0.929 - ETA: 2:12 - loss: 0.1978 - acc: 0.920 - ETA: 2:10 - loss: 0.1864 - acc: 0.924 - ETA: 2:07 - loss: 0.2305 - acc: 0.915 - ETA: 2:04 - loss: 0.2408 - acc: 0.910 - ETA: 2:02 - loss: 0.2456 - acc: 0.910 - ETA: 1:59 - loss: 0.2418 - acc: 0.913 - ETA: 1:57 - loss: 0.2344 - acc: 0.916 - ETA: 1:54 - loss: 0.2322 - acc: 0.916 - ETA: 1:51 - loss: 0.2274 - acc: 0.919 - ETA: 1:48 - loss: 0.2298 - acc: 0.919 - ETA: 1:45 - loss: 0.2260 - acc: 0.919 - ETA: 1:43 - loss: 0.2217 - acc: 0.921 - ETA: 1:40 - loss: 0.2186 - acc: 0.921 - ETA: 1:37 - loss: 0.2250 - acc: 0.921 - ETA: 1:35 - loss: 0.2208 - acc: 0.923 - ETA: 1:32 - loss: 0.2159 - acc: 0.925 - ETA: 1:29 - loss: 0.2151 - acc: 0.925 - ETA: 1:26 - loss: 0.2149 - acc: 0.924 - ETA: 1:24 - loss: 0.2144 - acc: 0.923 - ETA: 1:21 - loss: 0.2134 - acc: 0.923 - ETA: 1:18 - loss: 0.2123 - acc: 0.924 - ETA: 1:15 - loss: 0.2127 - acc: 0.923 - ETA: 1:13 - loss: 0.2151 - acc: 0.921 - ETA: 1:10 - loss: 0.2121 - acc: 0.923 - ETA: 1:08 - loss: 0.2094 - acc: 0.924 - ETA: 1:05 - loss: 0.2073 - acc: 0.925 - ETA: 1:02 - loss: 0.2067 - acc: 0.925 - ETA: 59s - loss: 0.2085 - acc: 0.923 - ETA: 57s - loss: 0.2085 - acc: 0.92 - ETA: 54s - loss: 0.2066 - acc: 0.92 - ETA: 51s - loss: 0.2053 - acc: 0.92 - ETA: 48s - loss: 0.2072 - acc: 0.92 - ETA: 46s - loss: 0.2053 - acc: 0.92 - ETA: 43s - loss: 0.2102 - acc: 0.92 - ETA: 40s - loss: 0.2086 - acc: 0.92 - ETA: 38s - loss: 0.2065 - acc: 0.92 - ETA: 35s - loss: 0.2055 - acc: 0.92 - ETA: 32s - loss: 0.2047 - acc: 0.92 - ETA: 29s - loss: 0.2044 - acc: 0.92 - ETA: 27s - loss: 0.2044 - acc: 0.92 - ETA: 24s - loss: 0.2045 - acc: 0.92 - ETA: 21s - loss: 0.2029 - acc: 0.92 - ETA: 19s - loss: 0.2037 - acc: 0.92 - ETA: 16s - loss: 0.2023 - acc: 0.92 - ETA: 13s - loss: 0.2017 - acc: 0.92 - ETA: 10s - loss: 0.1999 - acc: 0.92 - ETA: 8s - loss: 0.2001 - acc: 0.9278 - ETA: 5s - loss: 0.2008 - acc: 0.927 - ETA: 2s - loss: 0.1998 - acc: 0.927 - 164s 3s/step - loss: 0.1996 - acc: 0.9278 - val_loss: 1.0937 - val_acc: 0.6687\n",
      "Epoch 7/10\n"
     ]
    },
    {
     "name": "stdout",
     "output_type": "stream",
     "text": [
      "54/54 [==============================] - ETA: 2:18 - loss: 0.2038 - acc: 0.921 - ETA: 2:21 - loss: 0.1998 - acc: 0.929 - ETA: 2:19 - loss: 0.1817 - acc: 0.934 - ETA: 2:16 - loss: 0.1696 - acc: 0.939 - ETA: 2:14 - loss: 0.1768 - acc: 0.937 - ETA: 2:10 - loss: 0.1742 - acc: 0.938 - ETA: 2:07 - loss: 0.1653 - acc: 0.943 - ETA: 2:05 - loss: 0.1720 - acc: 0.940 - ETA: 2:02 - loss: 0.1705 - acc: 0.940 - ETA: 2:00 - loss: 0.1671 - acc: 0.941 - ETA: 1:57 - loss: 0.1637 - acc: 0.941 - ETA: 1:54 - loss: 0.1635 - acc: 0.940 - ETA: 1:51 - loss: 0.1593 - acc: 0.942 - ETA: 1:48 - loss: 0.1582 - acc: 0.941 - ETA: 1:46 - loss: 0.1557 - acc: 0.942 - ETA: 1:43 - loss: 0.1574 - acc: 0.942 - ETA: 1:40 - loss: 0.1557 - acc: 0.943 - ETA: 1:37 - loss: 0.1558 - acc: 0.943 - ETA: 1:34 - loss: 0.1572 - acc: 0.942 - ETA: 1:32 - loss: 0.1543 - acc: 0.944 - ETA: 1:29 - loss: 0.1545 - acc: 0.943 - ETA: 1:27 - loss: 0.1539 - acc: 0.943 - ETA: 1:24 - loss: 0.1507 - acc: 0.944 - ETA: 1:21 - loss: 0.1483 - acc: 0.946 - ETA: 1:18 - loss: 0.1498 - acc: 0.944 - ETA: 1:16 - loss: 0.1488 - acc: 0.945 - ETA: 1:13 - loss: 0.1486 - acc: 0.944 - ETA: 1:10 - loss: 0.1464 - acc: 0.945 - ETA: 1:07 - loss: 0.1465 - acc: 0.945 - ETA: 1:05 - loss: 0.1454 - acc: 0.945 - ETA: 1:02 - loss: 0.1447 - acc: 0.945 - ETA: 59s - loss: 0.1452 - acc: 0.944 - ETA: 57s - loss: 0.1433 - acc: 0.94 - ETA: 54s - loss: 0.1450 - acc: 0.94 - ETA: 51s - loss: 0.1442 - acc: 0.94 - ETA: 48s - loss: 0.1429 - acc: 0.94 - ETA: 46s - loss: 0.1435 - acc: 0.94 - ETA: 43s - loss: 0.1447 - acc: 0.94 - ETA: 40s - loss: 0.1459 - acc: 0.94 - ETA: 38s - loss: 0.1444 - acc: 0.94 - ETA: 35s - loss: 0.1440 - acc: 0.94 - ETA: 32s - loss: 0.1426 - acc: 0.94 - ETA: 29s - loss: 0.1421 - acc: 0.94 - ETA: 27s - loss: 0.1447 - acc: 0.94 - ETA: 24s - loss: 0.1444 - acc: 0.94 - ETA: 21s - loss: 0.1443 - acc: 0.94 - ETA: 18s - loss: 0.1448 - acc: 0.94 - ETA: 16s - loss: 0.1434 - acc: 0.94 - ETA: 13s - loss: 0.1431 - acc: 0.94 - ETA: 10s - loss: 0.1418 - acc: 0.94 - ETA: 8s - loss: 0.1417 - acc: 0.9461 - ETA: 5s - loss: 0.1415 - acc: 0.946 - ETA: 2s - loss: 0.1421 - acc: 0.945 - 164s 3s/step - loss: 0.1414 - acc: 0.9460 - val_loss: 0.8042 - val_acc: 0.7147\n",
      "Epoch 8/10\n",
      "54/54 [==============================] - ETA: 2:30 - loss: 0.0689 - acc: 0.976 - ETA: 2:26 - loss: 0.0902 - acc: 0.964 - ETA: 2:21 - loss: 0.1137 - acc: 0.960 - ETA: 2:17 - loss: 0.1064 - acc: 0.962 - ETA: 2:12 - loss: 0.1080 - acc: 0.962 - ETA: 2:09 - loss: 0.1054 - acc: 0.962 - ETA: 2:07 - loss: 0.1043 - acc: 0.963 - ETA: 2:05 - loss: 0.1014 - acc: 0.963 - ETA: 2:02 - loss: 0.0984 - acc: 0.964 - ETA: 1:59 - loss: 0.0987 - acc: 0.963 - ETA: 1:56 - loss: 0.1027 - acc: 0.960 - ETA: 1:53 - loss: 0.1089 - acc: 0.960 - ETA: 1:51 - loss: 0.1098 - acc: 0.960 - ETA: 1:49 - loss: 0.1072 - acc: 0.960 - ETA: 1:46 - loss: 0.1077 - acc: 0.960 - ETA: 1:43 - loss: 0.1109 - acc: 0.959 - ETA: 1:40 - loss: 0.1120 - acc: 0.960 - ETA: 1:37 - loss: 0.1106 - acc: 0.960 - ETA: 1:35 - loss: 0.1093 - acc: 0.960 - ETA: 1:32 - loss: 0.1081 - acc: 0.961 - ETA: 1:29 - loss: 0.1069 - acc: 0.961 - ETA: 1:27 - loss: 0.1057 - acc: 0.962 - ETA: 1:24 - loss: 0.1066 - acc: 0.962 - ETA: 1:21 - loss: 0.1076 - acc: 0.961 - ETA: 1:18 - loss: 0.1094 - acc: 0.960 - ETA: 1:16 - loss: 0.1088 - acc: 0.960 - ETA: 1:13 - loss: 0.1081 - acc: 0.960 - ETA: 1:10 - loss: 0.1072 - acc: 0.960 - ETA: 1:07 - loss: 0.1080 - acc: 0.960 - ETA: 1:05 - loss: 0.1068 - acc: 0.960 - ETA: 1:02 - loss: 0.1072 - acc: 0.960 - ETA: 59s - loss: 0.1075 - acc: 0.960 - ETA: 57s - loss: 0.1082 - acc: 0.96 - ETA: 54s - loss: 0.1076 - acc: 0.96 - ETA: 51s - loss: 0.1069 - acc: 0.96 - ETA: 48s - loss: 0.1068 - acc: 0.96 - ETA: 46s - loss: 0.1059 - acc: 0.96 - ETA: 43s - loss: 0.1046 - acc: 0.96 - ETA: 40s - loss: 0.1039 - acc: 0.96 - ETA: 38s - loss: 0.1025 - acc: 0.96 - ETA: 35s - loss: 0.1011 - acc: 0.96 - ETA: 32s - loss: 0.1009 - acc: 0.96 - ETA: 30s - loss: 0.1002 - acc: 0.96 - ETA: 27s - loss: 0.0998 - acc: 0.96 - ETA: 24s - loss: 0.0995 - acc: 0.96 - ETA: 21s - loss: 0.0989 - acc: 0.96 - ETA: 19s - loss: 0.0989 - acc: 0.96 - ETA: 16s - loss: 0.0990 - acc: 0.96 - ETA: 13s - loss: 0.0988 - acc: 0.96 - ETA: 10s - loss: 0.1004 - acc: 0.96 - ETA: 8s - loss: 0.1000 - acc: 0.9657 - ETA: 5s - loss: 0.0994 - acc: 0.965 - ETA: 2s - loss: 0.0990 - acc: 0.966 - 165s 3s/step - loss: 0.0988 - acc: 0.9661 - val_loss: 0.8455 - val_acc: 0.7297\n",
      "Epoch 9/10\n",
      "54/54 [==============================] - ETA: 2:21 - loss: 0.0980 - acc: 0.960 - ETA: 2:17 - loss: 0.0843 - acc: 0.957 - ETA: 2:15 - loss: 0.0681 - acc: 0.971 - ETA: 2:12 - loss: 0.0826 - acc: 0.962 - ETA: 2:11 - loss: 0.0871 - acc: 0.960 - ETA: 2:08 - loss: 0.0892 - acc: 0.962 - ETA: 2:06 - loss: 0.0897 - acc: 0.963 - ETA: 2:03 - loss: 0.0862 - acc: 0.965 - ETA: 2:00 - loss: 0.0879 - acc: 0.967 - ETA: 1:57 - loss: 0.0937 - acc: 0.965 - ETA: 1:55 - loss: 0.0916 - acc: 0.965 - ETA: 1:53 - loss: 0.0890 - acc: 0.967 - ETA: 1:50 - loss: 0.0922 - acc: 0.966 - ETA: 1:47 - loss: 0.0902 - acc: 0.967 - ETA: 1:44 - loss: 0.0880 - acc: 0.968 - ETA: 1:42 - loss: 0.0876 - acc: 0.968 - ETA: 1:39 - loss: 0.0860 - acc: 0.969 - ETA: 1:37 - loss: 0.0844 - acc: 0.970 - ETA: 1:34 - loss: 0.0822 - acc: 0.970 - ETA: 1:31 - loss: 0.0818 - acc: 0.970 - ETA: 1:29 - loss: 0.0818 - acc: 0.970 - ETA: 1:26 - loss: 0.0796 - acc: 0.971 - ETA: 1:24 - loss: 0.0803 - acc: 0.971 - ETA: 1:21 - loss: 0.0822 - acc: 0.970 - ETA: 1:18 - loss: 0.0811 - acc: 0.971 - ETA: 1:15 - loss: 0.0795 - acc: 0.972 - ETA: 1:13 - loss: 0.0783 - acc: 0.972 - ETA: 1:10 - loss: 0.0787 - acc: 0.972 - ETA: 1:07 - loss: 0.0773 - acc: 0.972 - ETA: 1:05 - loss: 0.0770 - acc: 0.972 - ETA: 1:02 - loss: 0.0780 - acc: 0.972 - ETA: 59s - loss: 0.0768 - acc: 0.973 - ETA: 56s - loss: 0.0783 - acc: 0.97 - ETA: 54s - loss: 0.0776 - acc: 0.97 - ETA: 51s - loss: 0.0767 - acc: 0.97 - ETA: 48s - loss: 0.0761 - acc: 0.97 - ETA: 46s - loss: 0.0781 - acc: 0.97 - ETA: 43s - loss: 0.0782 - acc: 0.97 - ETA: 40s - loss: 0.0805 - acc: 0.97 - ETA: 37s - loss: 0.0831 - acc: 0.97 - ETA: 35s - loss: 0.0829 - acc: 0.97 - ETA: 32s - loss: 0.0825 - acc: 0.97 - ETA: 29s - loss: 0.0822 - acc: 0.97 - ETA: 27s - loss: 0.0821 - acc: 0.97 - ETA: 24s - loss: 0.0830 - acc: 0.97 - ETA: 21s - loss: 0.0846 - acc: 0.97 - ETA: 18s - loss: 0.0841 - acc: 0.97 - ETA: 16s - loss: 0.0845 - acc: 0.97 - ETA: 13s - loss: 0.0843 - acc: 0.97 - ETA: 10s - loss: 0.0845 - acc: 0.97 - ETA: 8s - loss: 0.0834 - acc: 0.9721 - ETA: 5s - loss: 0.0853 - acc: 0.972 - ETA: 2s - loss: 0.0849 - acc: 0.972 - 164s 3s/step - loss: 0.0858 - acc: 0.9722 - val_loss: 0.9149 - val_acc: 0.7170\n",
      "Epoch 10/10\n",
      "54/54 [==============================] - ETA: 2:17 - loss: 0.0535 - acc: 0.976 - ETA: 2:15 - loss: 0.0630 - acc: 0.972 - ETA: 2:15 - loss: 0.0594 - acc: 0.971 - ETA: 2:14 - loss: 0.0588 - acc: 0.976 - ETA: 2:12 - loss: 0.0514 - acc: 0.981 - ETA: 2:10 - loss: 0.0484 - acc: 0.983 - ETA: 2:07 - loss: 0.0445 - acc: 0.985 - ETA: 2:04 - loss: 0.0472 - acc: 0.982 - ETA: 2:01 - loss: 0.0470 - acc: 0.981 - ETA: 1:59 - loss: 0.0491 - acc: 0.982 - ETA: 1:56 - loss: 0.0553 - acc: 0.978 - ETA: 1:54 - loss: 0.0549 - acc: 0.979 - ETA: 1:51 - loss: 0.0538 - acc: 0.979 - ETA: 1:48 - loss: 0.0555 - acc: 0.978 - ETA: 1:45 - loss: 0.0553 - acc: 0.977 - ETA: 1:43 - loss: 0.0629 - acc: 0.978 - ETA: 1:40 - loss: 0.0621 - acc: 0.978 - ETA: 1:37 - loss: 0.0616 - acc: 0.979 - ETA: 1:34 - loss: 0.0604 - acc: 0.979 - ETA: 1:32 - loss: 0.0613 - acc: 0.978 - ETA: 1:29 - loss: 0.0632 - acc: 0.978 - ETA: 1:26 - loss: 0.0635 - acc: 0.977 - ETA: 1:24 - loss: 0.0643 - acc: 0.977 - ETA: 1:21 - loss: 0.0647 - acc: 0.977 - ETA: 1:18 - loss: 0.0665 - acc: 0.976 - ETA: 1:16 - loss: 0.0660 - acc: 0.976 - ETA: 1:13 - loss: 0.0666 - acc: 0.976 - ETA: 1:10 - loss: 0.0671 - acc: 0.976 - ETA: 1:07 - loss: 0.0669 - acc: 0.976 - ETA: 1:05 - loss: 0.0657 - acc: 0.977 - ETA: 1:02 - loss: 0.0655 - acc: 0.977 - ETA: 59s - loss: 0.0666 - acc: 0.977 - ETA: 56s - loss: 0.0667 - acc: 0.97 - ETA: 54s - loss: 0.0666 - acc: 0.97 - ETA: 51s - loss: 0.0662 - acc: 0.97 - ETA: 48s - loss: 0.0681 - acc: 0.97 - ETA: 46s - loss: 0.0688 - acc: 0.97 - ETA: 43s - loss: 0.0684 - acc: 0.97 - ETA: 40s - loss: 0.0680 - acc: 0.97 - ETA: 37s - loss: 0.0683 - acc: 0.97 - ETA: 35s - loss: 0.0682 - acc: 0.97 - ETA: 32s - loss: 0.0679 - acc: 0.97 - ETA: 29s - loss: 0.0679 - acc: 0.97 - ETA: 26s - loss: 0.0677 - acc: 0.97 - ETA: 24s - loss: 0.0671 - acc: 0.97 - ETA: 21s - loss: 0.0669 - acc: 0.97 - ETA: 18s - loss: 0.0665 - acc: 0.97 - ETA: 16s - loss: 0.0657 - acc: 0.97 - ETA: 13s - loss: 0.0650 - acc: 0.97 - ETA: 10s - loss: 0.0647 - acc: 0.97 - ETA: 8s - loss: 0.0647 - acc: 0.9786 - ETA: 5s - loss: 0.0642 - acc: 0.978 - ETA: 2s - loss: 0.0634 - acc: 0.978 - 162s 3s/step - loss: 0.0629 - acc: 0.9792 - val_loss: 1.0465 - val_acc: 0.7257\n"
     ]
    }
   ],
   "source": [
    "model_details = model.fit_generator(custom_image_generator(train, batch_size = BATCH_SIZE),\n",
    "                    steps_per_epoch = len(train) // BATCH_SIZE, \n",
    "                    epochs = EPOCHS, \n",
    "                    validation_data= validation_data,\n",
    "                    verbose=1)"
   ]
  },
  {
   "cell_type": "code",
   "execution_count": 250,
   "metadata": {},
   "outputs": [
    {
     "name": "stdout",
     "output_type": "stream",
     "text": [
      "3000/3000 [==============================] - ETA: 13 - ETA: 14 - ETA: 14 - ETA: 14 - ETA: 14 - ETA: 14 - ETA: 13 - ETA: 13 - ETA: 13 - ETA: 13 - ETA: 13 - ETA: 13 - ETA: 13 - ETA: 12 - ETA: 12 - ETA: 12 - ETA: 12 - ETA: 12 - ETA: 12 - ETA: 11 - ETA: 11 - ETA: 11 - ETA: 11 - ETA: 11 - ETA: 11 - ETA: 11 - ETA: 11 - ETA: 11 - ETA: 11 - ETA: 11 - ETA: 11 - ETA: 11 - ETA: 11 - ETA: 11 - ETA: 10 - ETA: 10 - ETA: 10 - ETA: 10 - ETA: 10 - ETA: 10 - ETA: 10 - ETA: 9 - ETA:  - ETA:  - ETA:  - ETA:  - ETA:  - ETA:  - ETA:  - ETA:  - ETA:  - ETA:  - ETA:  - ETA:  - ETA:  - ETA:  - ETA:  - ETA:  - ETA:  - ETA:  - ETA:  - ETA:  - ETA:  - ETA:  - ETA:  - ETA:  - ETA:  - ETA:  - ETA:  - ETA:  - ETA:  - ETA:  - ETA:  - ETA:  - ETA:  - ETA:  - ETA:  - ETA:  - ETA:  - ETA:  - ETA:  - ETA:  - ETA:  - ETA:  - ETA:  - ETA:  - ETA:  - ETA:  - ETA:  - ETA:  - ETA:  - ETA:  - ETA:  - 19s 6ms/step\n"
     ]
    }
   ],
   "source": [
    "score = model.evaluate(validation_data[0], validation_data[1])"
   ]
  },
  {
   "cell_type": "code",
   "execution_count": 251,
   "metadata": {},
   "outputs": [
    {
     "name": "stdout",
     "output_type": "stream",
     "text": [
      "Accuracy: 72.57%\n"
     ]
    }
   ],
   "source": [
    "print(\"Accuracy: {0:.2f}%\".format(score[1]*100))"
   ]
  },
  {
   "cell_type": "code",
   "execution_count": 252,
   "metadata": {},
   "outputs": [],
   "source": [
    "y_pred = model.predict(validation_data[0])"
   ]
  },
  {
   "cell_type": "code",
   "execution_count": 253,
   "metadata": {},
   "outputs": [],
   "source": [
    "correct_indices = np.nonzero(np.argmax(y_pred,axis=1) == np.argmax(validation_data[1],axis=1))[0]\n",
    "incorrect_indices = np.nonzero(np.argmax(y_pred,axis=1) != np.argmax(validation_data[1],axis=1))[0]"
   ]
  },
  {
   "cell_type": "code",
   "execution_count": 254,
   "metadata": {},
   "outputs": [],
   "source": [
    "labels = ['dog', 'cat']"
   ]
  },
  {
   "cell_type": "code",
   "execution_count": 261,
   "metadata": {},
   "outputs": [
    {
     "data": {
      "image/png": "[encoded data removed]",
      "text/plain": [
       "<Figure size 432x288 with 1 Axes>"
      ]
     },
     "metadata": {
      "needs_background": "light"
     },
     "output_type": "display_data"
    },
    {
     "name": "stdout",
     "output_type": "stream",
     "text": [
      "Prediction: dog\n"
     ]
    }
   ],
   "source": [
    "image = 7\n",
    "plt.imshow(validation_data[0][incorrect_indices[image]].reshape(50,50), cmap=plt.get_cmap('gray'))\n",
    "plt.show()\n",
    "print(\"Prediction: {0}\".format(labels[np.argmax(y_pred[incorrect_indices[image]])]))"
   ]
  },
  {
   "cell_type": "code",
   "execution_count": 256,
   "metadata": {},
   "outputs": [
    {
     "data": {
      "image/png": "[encoded data removed]",
      "text/plain": [
       "<Figure size 432x288 with 1 Axes>"
      ]
     },
     "metadata": {
      "needs_background": "light"
     },
     "output_type": "display_data"
    },
    {
     "name": "stdout",
     "output_type": "stream",
     "text": [
      "Prediction: cat\n"
     ]
    }
   ],
   "source": [
    "image = 3\n",
    "plt.imshow(validation_data[0][correct_indices[image]].reshape(50,50), cmap=plt.get_cmap('gray'))\n",
    "plt.show()\n",
    "print(\"Prediction: {0}\".format(labels[np.argmax(y_pred[correct_indices[image]])]))"
   ]
  },
  {
   "cell_type": "code",
   "execution_count": null,
   "metadata": {},
   "outputs": [],
   "source": []
  }
 ],
 "metadata": {
  "kernelspec": {
   "display_name": "Python 3",
   "language": "python",
   "name": "python3"
  },
  "language_info": {
   "codemirror_mode": {
    "name": "ipython",
    "version": 3
   },
   "file_extension": ".py",
   "mimetype": "text/x-python",
   "name": "python",
   "nbconvert_exporter": "python",
   "pygments_lexer": "ipython3",
   "version": "3.6.7"
  }
 },
 "nbformat": 4,
 "nbformat_minor": 2
}
