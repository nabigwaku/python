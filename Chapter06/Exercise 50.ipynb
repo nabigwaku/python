{
 "cells": [
  {
   "cell_type": "code",
   "execution_count": 5,
   "metadata": {},
   "outputs": [],
   "source": [
    "import pandas as pd\n",
    "import numpy as np\n",
    "import matplotlib.pyplot as plt\n",
    "from sklearn.preprocessing import LabelBinarizer\n",
    "from sklearn.metrics import accuracy_score\n",
    "\n",
    "from keras.datasets import mnist\n",
    "from keras.models import Model, Sequential\n",
    "from keras.layers import Input, Dense, Concatenate, Reshape, Dropout\n",
    "from keras.layers.embeddings import Embedding\n",
    "from keras.callbacks import ModelCheckpoint, EarlyStopping"
   ]
  },
  {
   "cell_type": "code",
   "execution_count": 6,
   "metadata": {},
   "outputs": [],
   "source": [
    "(x_train, y_train), (x_test, y_test) = mnist.load_data()"
   ]
  },
  {
   "cell_type": "code",
   "execution_count": 7,
   "metadata": {},
   "outputs": [
    {
     "data": {
      "text/plain": [
       "(60000, 28, 28)"
      ]
     },
     "execution_count": 7,
     "metadata": {},
     "output_type": "execute_result"
    }
   ],
   "source": [
    "x_train.shape"
   ]
  },
  {
   "cell_type": "code",
   "execution_count": 8,
   "metadata": {},
   "outputs": [
    {
     "data": {
      "text/plain": [
       "(60000,)"
      ]
     },
     "execution_count": 8,
     "metadata": {},
     "output_type": "execute_result"
    }
   ],
   "source": [
    "y_train.shape"
   ]
  },
  {
   "cell_type": "code",
   "execution_count": 9,
   "metadata": {},
   "outputs": [
    {
     "data": {
      "image/png": "[encoded data removed]",
      "text/plain": [
       "<Figure size 432x288 with 1 Axes>"
      ]
     },
     "metadata": {
      "needs_background": "light"
     },
     "output_type": "display_data"
    }
   ],
   "source": [
    "plt.imshow(x_test[0], cmap=plt.get_cmap('gray'))\n",
    "plt.show()"
   ]
  },
  {
   "cell_type": "code",
   "execution_count": 10,
   "metadata": {},
   "outputs": [],
   "source": [
    "x_train = x_train.reshape(60000, 784)\n",
    "x_test = x_test.reshape(10000, 784)"
   ]
  },
  {
   "cell_type": "code",
   "execution_count": 11,
   "metadata": {},
   "outputs": [
    {
     "data": {
      "text/plain": [
       "array([5, 0, 4, ..., 5, 6, 8], dtype=uint8)"
      ]
     },
     "execution_count": 11,
     "metadata": {},
     "output_type": "execute_result"
    }
   ],
   "source": [
    "y_train"
   ]
  },
  {
   "cell_type": "code",
   "execution_count": 12,
   "metadata": {},
   "outputs": [
    {
     "data": {
      "text/plain": [
       "LabelBinarizer(neg_label=0, pos_label=1, sparse_output=False)"
      ]
     },
     "execution_count": 12,
     "metadata": {},
     "output_type": "execute_result"
    }
   ],
   "source": [
    "label_binarizer = LabelBinarizer()\n",
    "label_binarizer.fit(range(10))"
   ]
  },
  {
   "cell_type": "code",
   "execution_count": 13,
   "metadata": {},
   "outputs": [],
   "source": [
    "y_train = label_binarizer.transform(y_train)\n",
    "y_test = label_binarizer.transform(y_test)"
   ]
  },
  {
   "cell_type": "code",
   "execution_count": 14,
   "metadata": {},
   "outputs": [],
   "source": [
    "model = Sequential()\n",
    "model.add(Dense(units=32, activation='relu', input_dim=784))\n",
    "model.add(Dense(units=32, activation='relu'))\n",
    "model.add(Dense(units=10, activation='softmax'))\n",
    "\n",
    "model.compile(loss='categorical_crossentropy', optimizer='adam', metrics = ['acc'])"
   ]
  },
  {
   "cell_type": "code",
   "execution_count": 15,
   "metadata": {},
   "outputs": [
    {
     "name": "stdout",
     "output_type": "stream",
     "text": [
      "_________________________________________________________________\n",
      "Layer (type)                 Output Shape              Param #   \n",
      "=================================================================\n",
      "dense_1 (Dense)              (None, 32)                25120     \n",
      "_________________________________________________________________\n",
      "dense_2 (Dense)              (None, 32)                1056      \n",
      "_________________________________________________________________\n",
      "dense_3 (Dense)              (None, 10)                330       \n",
      "=================================================================\n",
      "Total params: 26,506\n",
      "Trainable params: 26,506\n",
      "Non-trainable params: 0\n",
      "_________________________________________________________________\n"
     ]
    }
   ],
   "source": [
    "model.summary()"
   ]
  },
  {
   "cell_type": "code",
   "execution_count": 16,
   "metadata": {},
   "outputs": [
    {
     "name": "stdout",
     "output_type": "stream",
     "text": [
      "Train on 60000 samples, validate on 10000 samples\n",
      "Epoch 1/40\n",
      "60000/60000 [==============================] - 3s 56us/step - loss: 7.3453 - acc: 0.5383 - val_loss: 5.4706 - val_acc: 0.6569\n",
      "Epoch 2/40\n",
      "60000/60000 [==============================] - 3s 50us/step - loss: 5.5885 - acc: 0.6503 - val_loss: 5.2989 - val_acc: 0.6687\n",
      "Epoch 3/40\n",
      "60000/60000 [==============================] - 3s 50us/step - loss: 5.4998 - acc: 0.6562 - val_loss: 5.2675 - val_acc: 0.6717\n",
      "Epoch 4/40\n",
      "60000/60000 [==============================] - 3s 49us/step - loss: 4.7473 - acc: 0.7021 - val_loss: 4.3413 - val_acc: 0.7277\n",
      "Epoch 5/40\n",
      "60000/60000 [==============================] - 3s 50us/step - loss: 4.2659 - acc: 0.7329 - val_loss: 4.3798 - val_acc: 0.7256\n",
      "Epoch 6/40\n",
      "60000/60000 [==============================] - 4s 66us/step - loss: 4.1524 - acc: 0.7401 - val_loss: 3.9230 - val_acc: 0.7546\n",
      "Epoch 7/40\n",
      "60000/60000 [==============================] - 4s 64us/step - loss: 4.1062 - acc: 0.7434 - val_loss: 3.9851 - val_acc: 0.7510\n",
      "Epoch 8/40\n",
      "60000/60000 [==============================] - 4s 63us/step - loss: 4.1354 - acc: 0.7419 - val_loss: 3.9682 - val_acc: 0.7526\n",
      "Epoch 9/40\n",
      "60000/60000 [==============================] - 4s 65us/step - loss: 4.1505 - acc: 0.7409 - val_loss: 4.0077 - val_acc: 0.7499\n",
      "Epoch 10/40\n",
      "60000/60000 [==============================] - 5s 78us/step - loss: 4.1127 - acc: 0.7435 - val_loss: 3.8383 - val_acc: 0.7612\n",
      "Epoch 11/40\n",
      "60000/60000 [==============================] - 4s 68us/step - loss: 3.9964 - acc: 0.7507 - val_loss: 3.8500 - val_acc: 0.7599\n",
      "Epoch 12/40\n",
      "60000/60000 [==============================] - 4s 66us/step - loss: 3.9977 - acc: 0.7509 - val_loss: 4.0732 - val_acc: 0.7457\n",
      "Epoch 13/40\n",
      "60000/60000 [==============================] - 4s 74us/step - loss: 4.0671 - acc: 0.7464 - val_loss: 4.1426 - val_acc: 0.7418\n",
      "Epoch 14/40\n",
      "60000/60000 [==============================] - 5s 77us/step - loss: 4.0529 - acc: 0.7477 - val_loss: 3.9745 - val_acc: 0.7530\n",
      "Epoch 15/40\n",
      "60000/60000 [==============================] - 5s 81us/step - loss: 3.9897 - acc: 0.7517 - val_loss: 3.8612 - val_acc: 0.7598\n",
      "Epoch 16/40\n",
      "60000/60000 [==============================] - 5s 89us/step - loss: 3.9943 - acc: 0.7511 - val_loss: 3.7671 - val_acc: 0.7644\n",
      "Epoch 17/40\n",
      "60000/60000 [==============================] - 5s 88us/step - loss: 2.5430 - acc: 0.8399 - val_loss: 1.5978 - val_acc: 0.8987\n",
      "Epoch 18/40\n",
      "60000/60000 [==============================] - 4s 69us/step - loss: 1.5229 - acc: 0.9038 - val_loss: 1.4358 - val_acc: 0.9096\n",
      "Epoch 19/40\n",
      "60000/60000 [==============================] - 4s 67us/step - loss: 1.4816 - acc: 0.9067 - val_loss: 1.3644 - val_acc: 0.9146\n",
      "Epoch 20/40\n",
      "60000/60000 [==============================] - 4s 70us/step - loss: 1.4163 - acc: 0.9110 - val_loss: 2.4987 - val_acc: 0.8435\n",
      "Epoch 21/40\n",
      "60000/60000 [==============================] - 4s 65us/step - loss: 1.3700 - acc: 0.9138 - val_loss: 1.0768 - val_acc: 0.9320\n",
      "Epoch 22/40\n",
      "60000/60000 [==============================] - 4s 66us/step - loss: 1.2063 - acc: 0.9241 - val_loss: 1.1992 - val_acc: 0.9245\n",
      "Epoch 23/40\n",
      "60000/60000 [==============================] - 4s 64us/step - loss: 1.1905 - acc: 0.9251 - val_loss: 1.1800 - val_acc: 0.9257\n",
      "Epoch 24/40\n",
      "60000/60000 [==============================] - 4s 72us/step - loss: 1.2303 - acc: 0.9230 - val_loss: 1.0895 - val_acc: 0.9316\n",
      "Epoch 25/40\n",
      "60000/60000 [==============================] - 4s 71us/step - loss: 1.2765 - acc: 0.9200 - val_loss: 1.3131 - val_acc: 0.9174\n",
      "Epoch 26/40\n",
      "60000/60000 [==============================] - 4s 67us/step - loss: 1.2159 - acc: 0.9239 - val_loss: 1.1439 - val_acc: 0.9283\n",
      "Epoch 27/40\n",
      "60000/60000 [==============================] - 4s 66us/step - loss: 1.2001 - acc: 0.9249 - val_loss: 1.1682 - val_acc: 0.9270\n",
      "Epoch 28/40\n",
      "60000/60000 [==============================] - 5s 76us/step - loss: 1.1622 - acc: 0.9273 - val_loss: 1.2138 - val_acc: 0.9240\n",
      "Epoch 29/40\n",
      "60000/60000 [==============================] - 4s 72us/step - loss: 1.1678 - acc: 0.9268 - val_loss: 1.3026 - val_acc: 0.9185\n",
      "Epoch 30/40\n",
      "60000/60000 [==============================] - 4s 70us/step - loss: 1.1675 - acc: 0.9271 - val_loss: 1.1217 - val_acc: 0.9298\n",
      "Epoch 31/40\n",
      "60000/60000 [==============================] - 4s 66us/step - loss: 1.1944 - acc: 0.9253 - val_loss: 1.0491 - val_acc: 0.9345\n",
      "Epoch 32/40\n",
      "60000/60000 [==============================] - 4s 73us/step - loss: 1.2285 - acc: 0.9231 - val_loss: 1.1120 - val_acc: 0.9304\n",
      "Epoch 33/40\n",
      "60000/60000 [==============================] - 4s 67us/step - loss: 1.1535 - acc: 0.9279 - val_loss: 1.1293 - val_acc: 0.9293\n",
      "Epoch 34/40\n",
      "60000/60000 [==============================] - 4s 65us/step - loss: 1.1317 - acc: 0.9292 - val_loss: 1.0976 - val_acc: 0.9315\n",
      "Epoch 35/40\n",
      "60000/60000 [==============================] - 4s 64us/step - loss: 1.1522 - acc: 0.9280 - val_loss: 1.2373 - val_acc: 0.9224\n",
      "Epoch 36/40\n",
      "60000/60000 [==============================] - 4s 69us/step - loss: 1.1204 - acc: 0.9298 - val_loss: 1.2792 - val_acc: 0.9202\n",
      "Epoch 37/40\n",
      "60000/60000 [==============================] - 4s 65us/step - loss: 1.1950 - acc: 0.9254 - val_loss: 1.0915 - val_acc: 0.9320\n",
      "Epoch 38/40\n",
      "60000/60000 [==============================] - 4s 65us/step - loss: 1.1184 - acc: 0.9300 - val_loss: 1.1752 - val_acc: 0.9267\n",
      "Epoch 39/40\n",
      "60000/60000 [==============================] - 4s 67us/step - loss: 1.1587 - acc: 0.9276 - val_loss: 1.1797 - val_acc: 0.9263\n",
      "Epoch 40/40\n",
      "60000/60000 [==============================] - 4s 74us/step - loss: 1.0944 - acc: 0.9316 - val_loss: 1.0314 - val_acc: 0.9357\n"
     ]
    },
    {
     "data": {
      "text/plain": [
       "<keras.callbacks.History at 0x1b20788c518>"
      ]
     },
     "execution_count": 16,
     "metadata": {},
     "output_type": "execute_result"
    }
   ],
   "source": [
    "model.fit(x_train, y_train, validation_data = (x_test, y_test), epochs=40, batch_size=32)"
   ]
  },
  {
   "cell_type": "code",
   "execution_count": 17,
   "metadata": {},
   "outputs": [
    {
     "name": "stdout",
     "output_type": "stream",
     "text": [
      "10000/10000 [==============================] - 0s 28us/step\n"
     ]
    }
   ],
   "source": [
    "score = model.evaluate(x_test, y_test)"
   ]
  },
  {
   "cell_type": "code",
   "execution_count": 18,
   "metadata": {},
   "outputs": [
    {
     "name": "stdout",
     "output_type": "stream",
     "text": [
      "Accuracy: 93.57%\n"
     ]
    }
   ],
   "source": [
    "print(\"Accuracy: {0:.2f}%\".format(score[1]*100))"
   ]
  },
  {
   "cell_type": "code",
   "execution_count": 19,
   "metadata": {},
   "outputs": [],
   "source": [
    "y_pred = model.predict(x_test)"
   ]
  },
  {
   "cell_type": "code",
   "execution_count": 20,
   "metadata": {},
   "outputs": [
    {
     "data": {
      "image/png": "[encoded data removed]",
      "text/plain": [
       "<Figure size 432x288 with 1 Axes>"
      ]
     },
     "metadata": {
      "needs_background": "light"
     },
     "output_type": "display_data"
    },
    {
     "name": "stdout",
     "output_type": "stream",
     "text": [
      "Prediction: 4\n"
     ]
    }
   ],
   "source": [
    "image = 6\n",
    "plt.imshow(x_test[image].reshape(28,28), cmap=plt.get_cmap('gray'))\n",
    "plt.show()\n",
    "print(\"Prediction: {0}\".format(np.argmax(y_pred[image])))"
   ]
  },
  {
   "cell_type": "code",
   "execution_count": 21,
   "metadata": {},
   "outputs": [],
   "source": [
    "correct_indices = np.nonzero(np.argmax(y_pred,axis=1) == np.argmax(y_test,axis=1))[0]\n",
    "incorrect_indices = np.nonzero(np.argmax(y_pred,axis=1) != np.argmax(y_test,axis=1))[0]"
   ]
  },
  {
   "cell_type": "code",
   "execution_count": 23,
   "metadata": {},
   "outputs": [
    {
     "data": {
      "image/png": "[encoded data removed]",
      "text/plain": [
       "<Figure size 432x288 with 1 Axes>"
      ]
     },
     "metadata": {
      "needs_background": "light"
     },
     "output_type": "display_data"
    },
    {
     "name": "stdout",
     "output_type": "stream",
     "text": [
      "Prediction: 2\n"
     ]
    }
   ],
   "source": [
    "image = 4\n",
    "plt.imshow(x_test[incorrect_indices[image]].reshape(28,28), cmap=plt.get_cmap('gray'))\n",
    "plt.show()\n",
    "print(\"Prediction: {0}\".format(np.argmax(y_pred[incorrect_indices[image]])))"
   ]
  },
  {
   "cell_type": "code",
   "execution_count": null,
   "metadata": {},
   "outputs": [],
   "source": []
  }
 ],
 "metadata": {
  "kernelspec": {
   "display_name": "Python 3",
   "language": "python",
   "name": "python3"
  },
  "language_info": {
   "codemirror_mode": {
    "name": "ipython",
    "version": 3
   },
   "file_extension": ".py",
   "mimetype": "text/x-python",
   "name": "python",
   "nbconvert_exporter": "python",
   "pygments_lexer": "ipython3",
   "version": "3.6.7"
  }
 },
 "nbformat": 4,
 "nbformat_minor": 2
}
