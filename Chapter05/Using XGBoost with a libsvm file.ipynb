{
 "cells": [
  {
   "cell_type": "code",
   "execution_count": 1,
   "metadata": {},
   "outputs": [],
   "source": [
    "%matplotlib inline"
   ]
  },
  {
   "cell_type": "code",
   "execution_count": 2,
   "metadata": {
    "ExecuteTime": {
     "end_time": "2018-12-08T19:22:07.685090Z",
     "start_time": "2018-12-08T19:22:07.397905Z"
    }
   },
   "outputs": [],
   "source": [
    "import pandas as pd\n",
    "import xgboost as xgb\n",
    "import numpy as np\n",
    "from sklearn.metrics import accuracy_score\n",
    "import matplotlib.pyplot as plt\n",
    "import graphviz"
   ]
  },
  {
   "cell_type": "code",
   "execution_count": 3,
   "metadata": {
    "ExecuteTime": {
     "end_time": "2018-12-08T19:22:09.058813Z",
     "start_time": "2018-12-08T19:22:09.048687Z"
    }
   },
   "outputs": [
    {
     "name": "stdout",
     "output_type": "stream",
     "text": [
      "[23:12:11] SparsePageSource: Finished writing to train.cache\n",
      "[23:12:11] 352x7 matrix with 2464 entries loaded from data/wholesale-data.dat.train#train.cache\n",
      "[23:12:11] SparsePageSource: Finished writing to test.cache\n",
      "[23:12:11] 88x7 matrix with 616 entries loaded from data/wholesale-data.dat.test#test.cache\n"
     ]
    }
   ],
   "source": [
    "train = xgb.DMatrix('data/wholesale-data.dat.train#train.cache')\n",
    "test = xgb.DMatrix('data/wholesale-data.dat.test#test.cache')"
   ]
  },
  {
   "cell_type": "code",
   "execution_count": 4,
   "metadata": {
    "ExecuteTime": {
     "start_time": "2018-12-08T19:22:10.612Z"
    }
   },
   "outputs": [],
   "source": [
    "param = {'max_depth':6, 'eta':0.1, 'silent':1, 'objective':'multi:softmax', 'num_class': 3}\n",
    "num_round = 5\n",
    "model = xgb.train(param, train, num_round)"
   ]
  },
  {
   "cell_type": "code",
   "execution_count": 5,
   "metadata": {
    "ExecuteTime": {
     "end_time": "2018-12-08T19:15:24.975586Z",
     "start_time": "2018-12-08T19:15:24.967724Z"
    }
   },
   "outputs": [],
   "source": [
    "preds = model.predict(test)"
   ]
  },
  {
   "cell_type": "code",
   "execution_count": 11,
   "metadata": {},
   "outputs": [],
   "source": [
    "Y = np.loadtxt('data/wholesale-data-Y-test.txt', dtype=int)"
   ]
  },
  {
   "cell_type": "code",
   "execution_count": 12,
   "metadata": {},
   "outputs": [
    {
     "name": "stdout",
     "output_type": "stream",
     "text": [
      "Accuracy: 88.64%\n"
     ]
    }
   ],
   "source": [
    "accuracy = accuracy_score(Y, preds)\n",
    "print(\"Accuracy: %.2f%%\" % (accuracy * 100.0))"
   ]
  }
 ],
 "metadata": {
  "kernelspec": {
   "display_name": "Python 3",
   "language": "python",
   "name": "python3"
  },
  "language_info": {
   "codemirror_mode": {
    "name": "ipython",
    "version": 3
   },
   "file_extension": ".py",
   "mimetype": "text/x-python",
   "name": "python",
   "nbconvert_exporter": "python",
   "pygments_lexer": "ipython3",
   "version": "3.6.7"
  }
 },
 "nbformat": 4,
 "nbformat_minor": 2
}
