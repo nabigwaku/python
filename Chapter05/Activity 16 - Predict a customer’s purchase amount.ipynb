{
 "cells": [
  {
   "cell_type": "code",
   "execution_count": 1,
   "metadata": {},
   "outputs": [
    {
     "name": "stderr",
     "output_type": "stream",
     "text": [
      "Using TensorFlow backend.\n"
     ]
    }
   ],
   "source": [
    "import pandas as pd\n",
    "from sklearn.preprocessing import LabelEncoder, MinMaxScaler\n",
    "from collections import defaultdict\n",
    "from sklearn.model_selection import train_test_split\n",
    "import numpy as np\n",
    "import matplotlib.pyplot as plt\n",
    "from sklearn.decomposition import PCA\n",
    "\n",
    "from keras.models import Model\n",
    "from keras.layers import Input, Dense, Concatenate, Reshape, Dropout\n",
    "from keras.layers.embeddings import Embedding"
   ]
  },
  {
   "cell_type": "code",
   "execution_count": 2,
   "metadata": {},
   "outputs": [],
   "source": [
    "data = pd.read_csv('data/BlackFriday.csv')"
   ]
  },
  {
   "cell_type": "code",
   "execution_count": 3,
   "metadata": {},
   "outputs": [
    {
     "data": {
      "text/plain": [
       "User_ID                         int64\n",
       "Product_ID                     object\n",
       "Gender                         object\n",
       "Age                            object\n",
       "Occupation                      int64\n",
       "City_Category                  object\n",
       "Stay_In_Current_City_Years     object\n",
       "Marital_Status                  int64\n",
       "Product_Category_1              int64\n",
       "Product_Category_2            float64\n",
       "Product_Category_3            float64\n",
       "Purchase                        int64\n",
       "dtype: object"
      ]
     },
     "execution_count": 3,
     "metadata": {},
     "output_type": "execute_result"
    }
   ],
   "source": [
    "data.dtypes"
   ]
  },
  {
   "cell_type": "code",
   "execution_count": 4,
   "metadata": {},
   "outputs": [
    {
     "data": {
      "text/html": [
       "<div>\n",
       "<style scoped>\n",
       "    .dataframe tbody tr th:only-of-type {\n",
       "        vertical-align: middle;\n",
       "    }\n",
       "\n",
       "    .dataframe tbody tr th {\n",
       "        vertical-align: top;\n",
       "    }\n",
       "\n",
       "    .dataframe thead th {\n",
       "        text-align: right;\n",
       "    }\n",
       "</style>\n",
       "<table border=\"1\" class=\"dataframe\">\n",
       "  <thead>\n",
       "    <tr style=\"text-align: right;\">\n",
       "      <th></th>\n",
       "      <th>User_ID</th>\n",
       "      <th>Product_ID</th>\n",
       "      <th>Gender</th>\n",
       "      <th>Age</th>\n",
       "      <th>Occupation</th>\n",
       "      <th>City_Category</th>\n",
       "      <th>Stay_In_Current_City_Years</th>\n",
       "      <th>Marital_Status</th>\n",
       "      <th>Product_Category_1</th>\n",
       "      <th>Product_Category_2</th>\n",
       "      <th>Product_Category_3</th>\n",
       "      <th>Purchase</th>\n",
       "    </tr>\n",
       "  </thead>\n",
       "  <tbody>\n",
       "    <tr>\n",
       "      <th>0</th>\n",
       "      <td>1000001</td>\n",
       "      <td>P00069042</td>\n",
       "      <td>F</td>\n",
       "      <td>0-17</td>\n",
       "      <td>10</td>\n",
       "      <td>A</td>\n",
       "      <td>2</td>\n",
       "      <td>0</td>\n",
       "      <td>3</td>\n",
       "      <td>NaN</td>\n",
       "      <td>NaN</td>\n",
       "      <td>8370</td>\n",
       "    </tr>\n",
       "    <tr>\n",
       "      <th>1</th>\n",
       "      <td>1000001</td>\n",
       "      <td>P00248942</td>\n",
       "      <td>F</td>\n",
       "      <td>0-17</td>\n",
       "      <td>10</td>\n",
       "      <td>A</td>\n",
       "      <td>2</td>\n",
       "      <td>0</td>\n",
       "      <td>1</td>\n",
       "      <td>6.0</td>\n",
       "      <td>14.0</td>\n",
       "      <td>15200</td>\n",
       "    </tr>\n",
       "    <tr>\n",
       "      <th>2</th>\n",
       "      <td>1000001</td>\n",
       "      <td>P00087842</td>\n",
       "      <td>F</td>\n",
       "      <td>0-17</td>\n",
       "      <td>10</td>\n",
       "      <td>A</td>\n",
       "      <td>2</td>\n",
       "      <td>0</td>\n",
       "      <td>12</td>\n",
       "      <td>NaN</td>\n",
       "      <td>NaN</td>\n",
       "      <td>1422</td>\n",
       "    </tr>\n",
       "    <tr>\n",
       "      <th>3</th>\n",
       "      <td>1000001</td>\n",
       "      <td>P00085442</td>\n",
       "      <td>F</td>\n",
       "      <td>0-17</td>\n",
       "      <td>10</td>\n",
       "      <td>A</td>\n",
       "      <td>2</td>\n",
       "      <td>0</td>\n",
       "      <td>12</td>\n",
       "      <td>14.0</td>\n",
       "      <td>NaN</td>\n",
       "      <td>1057</td>\n",
       "    </tr>\n",
       "    <tr>\n",
       "      <th>4</th>\n",
       "      <td>1000002</td>\n",
       "      <td>P00285442</td>\n",
       "      <td>M</td>\n",
       "      <td>55+</td>\n",
       "      <td>16</td>\n",
       "      <td>C</td>\n",
       "      <td>4+</td>\n",
       "      <td>0</td>\n",
       "      <td>8</td>\n",
       "      <td>NaN</td>\n",
       "      <td>NaN</td>\n",
       "      <td>7969</td>\n",
       "    </tr>\n",
       "  </tbody>\n",
       "</table>\n",
       "</div>"
      ],
      "text/plain": [
       "   User_ID Product_ID Gender   Age  Occupation City_Category  \\\n",
       "0  1000001  P00069042      F  0-17          10             A   \n",
       "1  1000001  P00248942      F  0-17          10             A   \n",
       "2  1000001  P00087842      F  0-17          10             A   \n",
       "3  1000001  P00085442      F  0-17          10             A   \n",
       "4  1000002  P00285442      M   55+          16             C   \n",
       "\n",
       "  Stay_In_Current_City_Years  Marital_Status  Product_Category_1  \\\n",
       "0                          2               0                   3   \n",
       "1                          2               0                   1   \n",
       "2                          2               0                  12   \n",
       "3                          2               0                  12   \n",
       "4                         4+               0                   8   \n",
       "\n",
       "   Product_Category_2  Product_Category_3  Purchase  \n",
       "0                 NaN                 NaN      8370  \n",
       "1                 6.0                14.0     15200  \n",
       "2                 NaN                 NaN      1422  \n",
       "3                14.0                 NaN      1057  \n",
       "4                 NaN                 NaN      7969  "
      ]
     },
     "execution_count": 4,
     "metadata": {},
     "output_type": "execute_result"
    }
   ],
   "source": [
    "data.head()"
   ]
  },
  {
   "cell_type": "code",
   "execution_count": 5,
   "metadata": {},
   "outputs": [
    {
     "data": {
      "text/plain": [
       "User_ID                            0\n",
       "Product_ID                         0\n",
       "Gender                             0\n",
       "Age                                0\n",
       "Occupation                         0\n",
       "City_Category                      0\n",
       "Stay_In_Current_City_Years         0\n",
       "Marital_Status                     0\n",
       "Product_Category_1                 0\n",
       "Product_Category_2            166986\n",
       "Product_Category_3            373299\n",
       "Purchase                           0\n",
       "dtype: int64"
      ]
     },
     "execution_count": 5,
     "metadata": {},
     "output_type": "execute_result"
    }
   ],
   "source": [
    "data.isnull().sum()"
   ]
  },
  {
   "cell_type": "code",
   "execution_count": 6,
   "metadata": {},
   "outputs": [
    {
     "data": {
      "text/plain": [
       "(537577, 12)"
      ]
     },
     "execution_count": 6,
     "metadata": {},
     "output_type": "execute_result"
    }
   ],
   "source": [
    "data.shape"
   ]
  },
  {
   "cell_type": "code",
   "execution_count": 7,
   "metadata": {},
   "outputs": [],
   "source": [
    "data.drop(['User_ID', 'Product_Category_2', 'Product_Category_3'], axis = 1, inplace = True)"
   ]
  },
  {
   "cell_type": "code",
   "execution_count": 8,
   "metadata": {},
   "outputs": [
    {
     "data": {
      "text/html": [
       "<div>\n",
       "<style scoped>\n",
       "    .dataframe tbody tr th:only-of-type {\n",
       "        vertical-align: middle;\n",
       "    }\n",
       "\n",
       "    .dataframe tbody tr th {\n",
       "        vertical-align: top;\n",
       "    }\n",
       "\n",
       "    .dataframe thead th {\n",
       "        text-align: right;\n",
       "    }\n",
       "</style>\n",
       "<table border=\"1\" class=\"dataframe\">\n",
       "  <thead>\n",
       "    <tr style=\"text-align: right;\">\n",
       "      <th></th>\n",
       "      <th>Product_ID</th>\n",
       "      <th>Gender</th>\n",
       "      <th>Age</th>\n",
       "      <th>Occupation</th>\n",
       "      <th>City_Category</th>\n",
       "      <th>Stay_In_Current_City_Years</th>\n",
       "      <th>Marital_Status</th>\n",
       "      <th>Product_Category_1</th>\n",
       "      <th>Purchase</th>\n",
       "    </tr>\n",
       "  </thead>\n",
       "  <tbody>\n",
       "    <tr>\n",
       "      <th>0</th>\n",
       "      <td>P00069042</td>\n",
       "      <td>F</td>\n",
       "      <td>0-17</td>\n",
       "      <td>10</td>\n",
       "      <td>A</td>\n",
       "      <td>2</td>\n",
       "      <td>0</td>\n",
       "      <td>3</td>\n",
       "      <td>8370</td>\n",
       "    </tr>\n",
       "    <tr>\n",
       "      <th>1</th>\n",
       "      <td>P00248942</td>\n",
       "      <td>F</td>\n",
       "      <td>0-17</td>\n",
       "      <td>10</td>\n",
       "      <td>A</td>\n",
       "      <td>2</td>\n",
       "      <td>0</td>\n",
       "      <td>1</td>\n",
       "      <td>15200</td>\n",
       "    </tr>\n",
       "    <tr>\n",
       "      <th>2</th>\n",
       "      <td>P00087842</td>\n",
       "      <td>F</td>\n",
       "      <td>0-17</td>\n",
       "      <td>10</td>\n",
       "      <td>A</td>\n",
       "      <td>2</td>\n",
       "      <td>0</td>\n",
       "      <td>12</td>\n",
       "      <td>1422</td>\n",
       "    </tr>\n",
       "    <tr>\n",
       "      <th>3</th>\n",
       "      <td>P00085442</td>\n",
       "      <td>F</td>\n",
       "      <td>0-17</td>\n",
       "      <td>10</td>\n",
       "      <td>A</td>\n",
       "      <td>2</td>\n",
       "      <td>0</td>\n",
       "      <td>12</td>\n",
       "      <td>1057</td>\n",
       "    </tr>\n",
       "    <tr>\n",
       "      <th>4</th>\n",
       "      <td>P00285442</td>\n",
       "      <td>M</td>\n",
       "      <td>55+</td>\n",
       "      <td>16</td>\n",
       "      <td>C</td>\n",
       "      <td>4+</td>\n",
       "      <td>0</td>\n",
       "      <td>8</td>\n",
       "      <td>7969</td>\n",
       "    </tr>\n",
       "  </tbody>\n",
       "</table>\n",
       "</div>"
      ],
      "text/plain": [
       "  Product_ID Gender   Age  Occupation City_Category  \\\n",
       "0  P00069042      F  0-17          10             A   \n",
       "1  P00248942      F  0-17          10             A   \n",
       "2  P00087842      F  0-17          10             A   \n",
       "3  P00085442      F  0-17          10             A   \n",
       "4  P00285442      M   55+          16             C   \n",
       "\n",
       "  Stay_In_Current_City_Years  Marital_Status  Product_Category_1  Purchase  \n",
       "0                          2               0                   3      8370  \n",
       "1                          2               0                   1     15200  \n",
       "2                          2               0                  12      1422  \n",
       "3                          2               0                  12      1057  \n",
       "4                         4+               0                   8      7969  "
      ]
     },
     "execution_count": 8,
     "metadata": {},
     "output_type": "execute_result"
    }
   ],
   "source": [
    "data.head()"
   ]
  },
  {
   "cell_type": "code",
   "execution_count": 9,
   "metadata": {},
   "outputs": [],
   "source": [
    "label_dict = defaultdict(LabelEncoder)\n",
    "data[['Product_ID', 'Gender', 'Age', 'Occupation', 'City_Category', 'Stay_In_Current_City_Years', 'Marital_Status', 'Product_Category_1']] = data[['Product_ID', 'Gender', 'Age', 'Occupation', 'City_Category', 'Stay_In_Current_City_Years', 'Marital_Status', 'Product_Category_1']].apply(lambda x: label_dict[x.name].fit_transform(x))"
   ]
  },
  {
   "cell_type": "code",
   "execution_count": 10,
   "metadata": {},
   "outputs": [],
   "source": [
    "X = data\n",
    "y = X.pop('Purchase')"
   ]
  },
  {
   "cell_type": "code",
   "execution_count": 11,
   "metadata": {},
   "outputs": [],
   "source": [
    "X_train, X_test, y_train, y_test = train_test_split(X, y, test_size=0.3, random_state=9)"
   ]
  },
  {
   "cell_type": "code",
   "execution_count": 12,
   "metadata": {},
   "outputs": [],
   "source": [
    "cat_cols_dict = {col: list(data[col].unique()) for col in ['Product_ID', 'Gender', 'Age', 'Occupation', 'City_Category', 'Stay_In_Current_City_Years', 'Marital_Status', 'Product_Category_1']}"
   ]
  },
  {
   "cell_type": "code",
   "execution_count": 13,
   "metadata": {},
   "outputs": [],
   "source": [
    "train_input_list = []\n",
    "test_input_list = []\n",
    "\n",
    "for col in cat_cols_dict.keys():\n",
    "    raw_values = np.unique(data[col])\n",
    "    value_map = {}\n",
    "    for i in range(len(raw_values)):\n",
    "        value_map[raw_values[i]] = i       \n",
    "    train_input_list.append(X_train[col].map(value_map).values)\n",
    "    test_input_list.append(X_test[col].map(value_map).fillna(0).values)"
   ]
  },
  {
   "cell_type": "code",
   "execution_count": 14,
   "metadata": {},
   "outputs": [],
   "source": [
    "cols_out_dict = {\n",
    "    'Product_ID': 20,\n",
    "    'Gender': 1,\n",
    "    'Age': 2,\n",
    "    'Occupation': 6,\n",
    "    'City_Category': 1,\n",
    "    'Stay_In_Current_City_Years': 2,\n",
    "    'Marital_Status': 1,\n",
    "    'Product_Category_1': 9\n",
    "}"
   ]
  },
  {
   "cell_type": "code",
   "execution_count": 21,
   "metadata": {},
   "outputs": [],
   "source": [
    "inputs = []\n",
    "embeddings = []\n",
    "\n",
    "for col in cat_cols_dict.keys():\n",
    "    \n",
    "    inp = Input(shape=(1,), name = 'input_' + col)\n",
    "    embedding = Embedding(len(cat_cols_dict[col]), cols_out_dict[col], input_length=1, name = 'embedding_' + col)(inp)\n",
    "    embedding = Reshape(target_shape=(cols_out_dict[col],))(embedding)\n",
    "    inputs.append(inp)\n",
    "    embeddings.append(embedding)\n",
    "\n",
    "\n",
    "x = Concatenate()(embeddings)\n",
    "x = Dense(4, activation='relu')(x)\n",
    "x = Dense(2, activation='relu')(x)\n",
    "output = Dense(1, activation='relu')(x)\n",
    "\n",
    "model = Model(inputs, output)\n",
    "\n",
    "model.compile(loss='mae', optimizer='adam')"
   ]
  },
  {
   "cell_type": "code",
   "execution_count": 22,
   "metadata": {
    "scrolled": true
   },
   "outputs": [
    {
     "name": "stdout",
     "output_type": "stream",
     "text": [
      "__________________________________________________________________________________________________\n",
      "Layer (type)                    Output Shape         Param #     Connected to                     \n",
      "==================================================================================================\n",
      "input_Product_ID (InputLayer)   (None, 1)            0                                            \n",
      "__________________________________________________________________________________________________\n",
      "input_Gender (InputLayer)       (None, 1)            0                                            \n",
      "__________________________________________________________________________________________________\n",
      "input_Age (InputLayer)          (None, 1)            0                                            \n",
      "__________________________________________________________________________________________________\n",
      "input_Occupation (InputLayer)   (None, 1)            0                                            \n",
      "__________________________________________________________________________________________________\n",
      "input_City_Category (InputLayer (None, 1)            0                                            \n",
      "__________________________________________________________________________________________________\n",
      "input_Stay_In_Current_City_Year (None, 1)            0                                            \n",
      "__________________________________________________________________________________________________\n",
      "input_Marital_Status (InputLaye (None, 1)            0                                            \n",
      "__________________________________________________________________________________________________\n",
      "input_Product_Category_1 (Input (None, 1)            0                                            \n",
      "__________________________________________________________________________________________________\n",
      "embedding_Product_ID (Embedding (None, 1, 20)        72460       input_Product_ID[0][0]           \n",
      "__________________________________________________________________________________________________\n",
      "embedding_Gender (Embedding)    (None, 1, 1)         2           input_Gender[0][0]               \n",
      "__________________________________________________________________________________________________\n",
      "embedding_Age (Embedding)       (None, 1, 2)         14          input_Age[0][0]                  \n",
      "__________________________________________________________________________________________________\n",
      "embedding_Occupation (Embedding (None, 1, 6)         126         input_Occupation[0][0]           \n",
      "__________________________________________________________________________________________________\n",
      "embedding_City_Category (Embedd (None, 1, 1)         3           input_City_Category[0][0]        \n",
      "__________________________________________________________________________________________________\n",
      "embedding_Stay_In_Current_City_ (None, 1, 2)         10          input_Stay_In_Current_City_Years[\n",
      "__________________________________________________________________________________________________\n",
      "embedding_Marital_Status (Embed (None, 1, 1)         2           input_Marital_Status[0][0]       \n",
      "__________________________________________________________________________________________________\n",
      "embedding_Product_Category_1 (E (None, 1, 9)         162         input_Product_Category_1[0][0]   \n",
      "__________________________________________________________________________________________________\n",
      "reshape_17 (Reshape)            (None, 20)           0           embedding_Product_ID[0][0]       \n",
      "__________________________________________________________________________________________________\n",
      "reshape_18 (Reshape)            (None, 1)            0           embedding_Gender[0][0]           \n",
      "__________________________________________________________________________________________________\n",
      "reshape_19 (Reshape)            (None, 2)            0           embedding_Age[0][0]              \n",
      "__________________________________________________________________________________________________\n",
      "reshape_20 (Reshape)            (None, 6)            0           embedding_Occupation[0][0]       \n",
      "__________________________________________________________________________________________________\n",
      "reshape_21 (Reshape)            (None, 1)            0           embedding_City_Category[0][0]    \n",
      "__________________________________________________________________________________________________\n",
      "reshape_22 (Reshape)            (None, 2)            0           embedding_Stay_In_Current_City_Ye\n",
      "__________________________________________________________________________________________________\n",
      "reshape_23 (Reshape)            (None, 1)            0           embedding_Marital_Status[0][0]   \n",
      "__________________________________________________________________________________________________\n",
      "reshape_24 (Reshape)            (None, 9)            0           embedding_Product_Category_1[0][0\n",
      "__________________________________________________________________________________________________\n",
      "concatenate_3 (Concatenate)     (None, 42)           0           reshape_17[0][0]                 \n",
      "                                                                 reshape_18[0][0]                 \n",
      "                                                                 reshape_19[0][0]                 \n",
      "                                                                 reshape_20[0][0]                 \n",
      "                                                                 reshape_21[0][0]                 \n",
      "                                                                 reshape_22[0][0]                 \n",
      "                                                                 reshape_23[0][0]                 \n",
      "                                                                 reshape_24[0][0]                 \n",
      "__________________________________________________________________________________________________\n",
      "dense_9 (Dense)                 (None, 4)            172         concatenate_3[0][0]              \n",
      "__________________________________________________________________________________________________\n",
      "dense_10 (Dense)                (None, 2)            10          dense_9[0][0]                    \n",
      "__________________________________________________________________________________________________\n",
      "dense_11 (Dense)                (None, 1)            3           dense_10[0][0]                   \n",
      "==================================================================================================\n",
      "Total params: 72,964\n",
      "Trainable params: 72,964\n",
      "Non-trainable params: 0\n",
      "__________________________________________________________________________________________________\n"
     ]
    }
   ],
   "source": [
    "model.summary()"
   ]
  },
  {
   "cell_type": "code",
   "execution_count": 23,
   "metadata": {},
   "outputs": [
    {
     "name": "stdout",
     "output_type": "stream",
     "text": [
      "Train on 376303 samples, validate on 161274 samples\n",
      "Epoch 1/20\n",
      "376303/376303 [==============================] - 10s 27us/step - loss: 4644.9516 - val_loss: 2068.8491\n",
      "Epoch 2/20\n",
      "376303/376303 [==============================] - 9s 25us/step - loss: 1983.5428 - val_loss: 1951.3333\n",
      "Epoch 3/20\n",
      "376303/376303 [==============================] - 9s 25us/step - loss: 1931.6570 - val_loss: 1933.8283\n",
      "Epoch 4/20\n",
      "376303/376303 [==============================] - 9s 25us/step - loss: 1918.0718 - val_loss: 1927.0574\n",
      "Epoch 5/20\n",
      "376303/376303 [==============================] - 9s 24us/step - loss: 1912.0447 - val_loss: 1924.1147\n",
      "Epoch 6/20\n",
      "376303/376303 [==============================] - 9s 24us/step - loss: 1908.8644 - val_loss: 1923.3719\n",
      "Epoch 7/20\n",
      "376303/376303 [==============================] - 9s 24us/step - loss: 1906.8893 - val_loss: 1922.2711\n",
      "Epoch 8/20\n",
      "376303/376303 [==============================] - 9s 24us/step - loss: 1905.7113 - val_loss: 1921.4459\n",
      "Epoch 9/20\n",
      "376303/376303 [==============================] - 9s 24us/step - loss: 1904.6730 - val_loss: 1922.3018\n",
      "Epoch 10/20\n",
      "376303/376303 [==============================] - 9s 24us/step - loss: 1903.9220 - val_loss: 1921.8960\n",
      "Epoch 11/20\n",
      "376303/376303 [==============================] - 9s 24us/step - loss: 1903.3980 - val_loss: 1921.5807\n",
      "Epoch 12/20\n",
      "376303/376303 [==============================] - 9s 24us/step - loss: 1902.9294 - val_loss: 1921.2952\n",
      "Epoch 13/20\n",
      "376303/376303 [==============================] - 9s 24us/step - loss: 1902.5826 - val_loss: 1922.3155\n",
      "Epoch 14/20\n",
      "376303/376303 [==============================] - 9s 24us/step - loss: 1902.3209 - val_loss: 1920.8656\n",
      "Epoch 15/20\n",
      "376303/376303 [==============================] - 9s 25us/step - loss: 1902.0242 - val_loss: 1921.1777\n",
      "Epoch 16/20\n",
      "376303/376303 [==============================] - 9s 24us/step - loss: 1901.7389 - val_loss: 1921.2021\n",
      "Epoch 17/20\n",
      "376303/376303 [==============================] - 9s 24us/step - loss: 1901.5912 - val_loss: 1920.7030\n",
      "Epoch 18/20\n",
      "376303/376303 [==============================] - 9s 24us/step - loss: 1901.4430 - val_loss: 1920.6147\n",
      "Epoch 19/20\n",
      "376303/376303 [==============================] - 9s 24us/step - loss: 1901.4277 - val_loss: 1920.8171\n",
      "Epoch 20/20\n",
      "376303/376303 [==============================] - 9s 24us/step - loss: 1901.0631 - val_loss: 1920.7573\n"
     ]
    },
    {
     "data": {
      "text/plain": [
       "<keras.callbacks.History at 0x2a250870cf8>"
      ]
     },
     "execution_count": 23,
     "metadata": {},
     "output_type": "execute_result"
    }
   ],
   "source": [
    "model.fit(train_input_list, y_train, validation_data = (test_input_list, y_test), epochs=20, batch_size=128)"
   ]
  },
  {
   "cell_type": "code",
   "execution_count": 24,
   "metadata": {},
   "outputs": [
    {
     "name": "stdout",
     "output_type": "stream",
     "text": [
      "161274/161274 [==============================] - 4s 26us/step\n"
     ]
    },
    {
     "data": {
      "text/plain": [
       "1920.7573351727883"
      ]
     },
     "execution_count": 24,
     "metadata": {},
     "output_type": "execute_result"
    }
   ],
   "source": [
    "model.evaluate(test_input_list, y_test)"
   ]
  },
  {
   "cell_type": "code",
   "execution_count": 36,
   "metadata": {},
   "outputs": [
    {
     "data": {
      "text/plain": [
       "2769.3530320305395"
      ]
     },
     "execution_count": 36,
     "metadata": {},
     "output_type": "execute_result"
    }
   ],
   "source": [
    "from sklearn.metrics import mean_squared_error\n",
    "y_pred = model.predict(test_input_list)\n",
    "np.sqrt(mean_squared_error(y_test, y_pred))"
   ]
  },
  {
   "cell_type": "code",
   "execution_count": 25,
   "metadata": {},
   "outputs": [],
   "source": [
    "embedding_Occupation = model.get_layer('embedding_Occupation').get_weights()[0]\n",
    "embedding_Product_ID = model.get_layer('embedding_Product_ID').get_weights()[0]\n",
    "embedding_Product_Category_1 = model.get_layer('embedding_Product_Category_1').get_weights()[0]"
   ]
  },
  {
   "cell_type": "code",
   "execution_count": 31,
   "metadata": {},
   "outputs": [
    {
     "data": {
      "image/png": "[encoded data removed]",
      "text/plain": [
       "<Figure size 576x576 with 1 Axes>"
      ]
     },
     "metadata": {
      "needs_background": "light"
     },
     "output_type": "display_data"
    }
   ],
   "source": [
    "pca = PCA(n_components=2)\n",
    "Y = pca.fit_transform(embedding_Product_ID[:40])\n",
    "plt.figure(figsize=(8,8))\n",
    "plt.scatter(-Y[:, 0], -Y[:, 1])\n",
    "for i, txt in enumerate(label_dict['Product_ID'].inverse_transform(cat_cols_dict['Product_ID'])[:40]):\n",
    "    plt.annotate(txt, (-Y[i, 0],-Y[i, 1]), xytext = (-20, 8), textcoords = 'offset points')\n",
    "plt.show()"
   ]
  },
  {
   "cell_type": "code",
   "execution_count": 27,
   "metadata": {},
   "outputs": [
    {
     "data": {
      "image/png": "[encoded data removed]",
      "text/plain": [
       "<Figure size 576x576 with 1 Axes>"
      ]
     },
     "metadata": {
      "needs_background": "light"
     },
     "output_type": "display_data"
    }
   ],
   "source": [
    "pca = PCA(n_components=2)\n",
    "Y = pca.fit_transform(embedding_Product_Category_1)\n",
    "plt.figure(figsize=(8,8))\n",
    "plt.scatter(-Y[:, 0], -Y[:, 1])\n",
    "for i, txt in enumerate(label_dict['Product_Category_1'].inverse_transform(cat_cols_dict['Product_Category_1'])):\n",
    "    plt.annotate(txt, (-Y[i, 0],-Y[i, 1]), xytext = (-20, 8), textcoords = 'offset points')\n",
    "plt.show()"
   ]
  },
  {
   "cell_type": "code",
   "execution_count": 28,
   "metadata": {},
   "outputs": [
    {
     "data": {
      "image/png": "[encoded data removed]",
      "text/plain": [
       "<Figure size 576x576 with 1 Axes>"
      ]
     },
     "metadata": {
      "needs_background": "light"
     },
     "output_type": "display_data"
    }
   ],
   "source": [
    "pca = PCA(n_components=2)\n",
    "Y = pca.fit_transform(embedding_Occupation)\n",
    "plt.figure(figsize=(8,8))\n",
    "plt.scatter(-Y[:, 0], -Y[:, 1])\n",
    "for i, txt in enumerate(label_dict['Occupation'].inverse_transform(cat_cols_dict['Occupation'])):\n",
    "    plt.annotate(txt, (-Y[i, 0],-Y[i, 1]), xytext = (-20, 8), textcoords = 'offset points')\n",
    "plt.show()"
   ]
  },
  {
   "cell_type": "code",
   "execution_count": 29,
   "metadata": {},
   "outputs": [],
   "source": [
    "model.save ('black-friday.model')"
   ]
  }
 ],
 "metadata": {
  "kernelspec": {
   "display_name": "Python 3",
   "language": "python",
   "name": "python3"
  },
  "language_info": {
   "codemirror_mode": {
    "name": "ipython",
    "version": 3
   },
   "file_extension": ".py",
   "mimetype": "text/x-python",
   "name": "python",
   "nbconvert_exporter": "python",
   "pygments_lexer": "ipython3",
   "version": "3.6.7"
  }
 },
 "nbformat": 4,
 "nbformat_minor": 2
}
