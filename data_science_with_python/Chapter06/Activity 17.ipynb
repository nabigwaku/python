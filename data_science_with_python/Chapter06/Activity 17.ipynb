{
 "cells": [
  {
   "cell_type": "code",
   "execution_count": 1,
   "metadata": {},
   "outputs": [
    {
     "name": "stderr",
     "output_type": "stream",
     "text": [
      "Using TensorFlow backend.\n"
     ]
    }
   ],
   "source": [
    "import os\n",
    "import pandas as pd\n",
    "import numpy as np\n",
    "from PIL import Image\n",
    "import matplotlib.pyplot as plt\n",
    "from sklearn.preprocessing import LabelBinarizer\n",
    "from sklearn.metrics import accuracy_score\n",
    "from tqdm import tqdm\n",
    "from random import shuffle\n",
    "\n",
    "from keras.models import Model, Sequential\n",
    "from keras.layers import Input, Dense, Concatenate, Reshape, Dropout, Conv2D, MaxPool2D, Flatten, BatchNormalization\n",
    "from keras.layers.embeddings import Embedding\n",
    "from keras.callbacks import ModelCheckpoint, EarlyStopping\n",
    "from keras.preprocessing.image import ImageDataGenerator"
   ]
  },
  {
   "cell_type": "code",
   "execution_count": 2,
   "metadata": {},
   "outputs": [],
   "source": [
    "SIZE = 50\n",
    "EPOCHS = 10"
   ]
  },
  {
   "cell_type": "code",
   "execution_count": 3,
   "metadata": {},
   "outputs": [],
   "source": [
    "PATH = 'C:/Users/Maedr3/Documents/packt/chapter 7/data/dogs-vs-cats/train/'"
   ]
  },
  {
   "cell_type": "code",
   "execution_count": 8,
   "metadata": {},
   "outputs": [],
   "source": [
    "def get_label(file):\n",
    "    class_label = file.split('.')[0]\n",
    "    if class_label == 'dog': label_vector = [1,0]\n",
    "    elif class_label == 'cat': label_vector = [0,1]\n",
    "    return label_vector"
   ]
  },
  {
   "cell_type": "code",
   "execution_count": 9,
   "metadata": {},
   "outputs": [],
   "source": [
    "def get_data():\n",
    "    data = []\n",
    "    files = os.listdir(PATH)\n",
    "    for image in tqdm(files):\n",
    "        \n",
    "        label_vector = get_label(image)\n",
    "        \n",
    "\n",
    "        img = Image.open(PATH + image).convert('L')\n",
    "        img = img.resize((SIZE,SIZE))\n",
    "        \n",
    "        data.append([np.asarray(img),np.array(label_vector)])\n",
    "        \n",
    "    shuffle(data)\n",
    "    return data"
   ]
  },
  {
   "cell_type": "code",
   "execution_count": 10,
   "metadata": {},
   "outputs": [
    {
     "name": "stderr",
     "output_type": "stream",
     "text": [
      "100%|██████████| 10000/10000 [00:57<00:00, 174.78it/s]\n"
     ]
    }
   ],
   "source": [
    "data = get_data()"
   ]
  },
  {
   "cell_type": "code",
   "execution_count": 115,
   "metadata": {},
   "outputs": [],
   "source": [
    "train = data[:7000]\n",
    "test = data[7000:]"
   ]
  },
  {
   "cell_type": "code",
   "execution_count": 116,
   "metadata": {},
   "outputs": [],
   "source": [
    "x_train = [data[0] for data in train]\n",
    "y_train = [data[1] for data in train]\n",
    "x_test = [data[0] for data in test]\n",
    "y_test = [data[1] for data in test]"
   ]
  },
  {
   "cell_type": "code",
   "execution_count": 117,
   "metadata": {},
   "outputs": [],
   "source": [
    "y_train = np.array(y_train)\n",
    "y_test = np.array(y_test)"
   ]
  },
  {
   "cell_type": "code",
   "execution_count": 118,
   "metadata": {},
   "outputs": [],
   "source": [
    "x_train = np.array(x_train).reshape(-1,50,50,1)\n",
    "x_test = np.array(x_test).reshape(-1,50,50,1)"
   ]
  },
  {
   "cell_type": "code",
   "execution_count": 119,
   "metadata": {},
   "outputs": [
    {
     "data": {
      "text/plain": [
       "(7000, 50, 50, 1)"
      ]
     },
     "execution_count": 119,
     "metadata": {},
     "output_type": "execute_result"
    }
   ],
   "source": [
    "x_train.shape"
   ]
  },
  {
   "cell_type": "code",
   "execution_count": 120,
   "metadata": {},
   "outputs": [
    {
     "data": {
      "text/plain": [
       "(3000, 2)"
      ]
     },
     "execution_count": 120,
     "metadata": {},
     "output_type": "execute_result"
    }
   ],
   "source": [
    "y_test.shape"
   ]
  },
  {
   "cell_type": "code",
   "execution_count": 152,
   "metadata": {},
   "outputs": [
    {
     "name": "stdout",
     "output_type": "stream",
     "text": [
      "_________________________________________________________________\n",
      "Layer (type)                 Output Shape              Param #   \n",
      "=================================================================\n",
      "conv2d_27 (Conv2D)           (None, 50, 50, 48)        480       \n",
      "_________________________________________________________________\n",
      "conv2d_28 (Conv2D)           (None, 48, 48, 48)        20784     \n",
      "_________________________________________________________________\n",
      "max_pooling2d_14 (MaxPooling (None, 24, 24, 48)        0         \n",
      "_________________________________________________________________\n",
      "batch_normalization_14 (Batc (None, 24, 24, 48)        192       \n",
      "_________________________________________________________________\n",
      "dropout_27 (Dropout)         (None, 24, 24, 48)        0         \n",
      "_________________________________________________________________\n",
      "flatten_14 (Flatten)         (None, 27648)             0         \n",
      "_________________________________________________________________\n",
      "dense_27 (Dense)             (None, 512)               14156288  \n",
      "_________________________________________________________________\n",
      "dropout_28 (Dropout)         (None, 512)               0         \n",
      "_________________________________________________________________\n",
      "dense_28 (Dense)             (None, 2)                 1026      \n",
      "=================================================================\n",
      "Total params: 14,178,770\n",
      "Trainable params: 14,178,674\n",
      "Non-trainable params: 96\n",
      "_________________________________________________________________\n"
     ]
    }
   ],
   "source": [
    "model = Sequential()\n",
    "    \n",
    "model.add(Conv2D(48, (3, 3), activation='relu', padding='same', input_shape=(50,50,1)))    \n",
    "model.add(Conv2D(48, (3, 3), activation='relu'))    \n",
    "model.add(MaxPool2D(pool_size=(2, 2)))\n",
    "model.add(BatchNormalization())\n",
    "model.add(Dropout(0.10))\n",
    "\n",
    "model.add(Flatten())\n",
    "\n",
    "model.add(Dense(512, activation='relu'))\n",
    "model.add(Dropout(0.5))\n",
    "\n",
    "model.add(Dense(2, activation='softmax'))\n",
    "\n",
    "model.summary()"
   ]
  },
  {
   "cell_type": "code",
   "execution_count": 153,
   "metadata": {},
   "outputs": [],
   "source": [
    "model.compile(loss='categorical_crossentropy', \n",
    "              optimizer='adam',\n",
    "              metrics = ['accuracy'])"
   ]
  },
  {
   "cell_type": "code",
   "execution_count": 154,
   "metadata": {},
   "outputs": [
    {
     "name": "stdout",
     "output_type": "stream",
     "text": [
      "Train on 7000 samples, validate on 3000 samples\n",
      "Epoch 1/10\n",
      "7000/7000 [==============================] - ETA: 4:22 - loss: 1.3072 - acc: 0.507 - ETA: 3:19 - loss: 3.1546 - acc: 0.523 - ETA: 2:55 - loss: 3.5732 - acc: 0.544 - ETA: 2:42 - loss: 4.0435 - acc: 0.533 - ETA: 2:32 - loss: 4.2560 - acc: 0.545 - ETA: 2:24 - loss: 4.5466 - acc: 0.544 - ETA: 2:18 - loss: 4.6761 - acc: 0.545 - ETA: 2:14 - loss: 4.7963 - acc: 0.550 - ETA: 2:10 - loss: 4.9476 - acc: 0.547 - ETA: 2:06 - loss: 5.0253 - acc: 0.550 - ETA: 2:02 - loss: 5.0148 - acc: 0.557 - ETA: 1:58 - loss: 5.0675 - acc: 0.561 - ETA: 1:55 - loss: 5.1216 - acc: 0.564 - ETA: 1:52 - loss: 5.1074 - acc: 0.569 - ETA: 1:49 - loss: 5.1793 - acc: 0.568 - ETA: 1:46 - loss: 5.2218 - acc: 0.569 - ETA: 1:43 - loss: 5.2363 - acc: 0.570 - ETA: 1:40 - loss: 5.2904 - acc: 0.565 - ETA: 1:37 - loss: 5.3344 - acc: 0.564 - ETA: 1:35 - loss: 5.3129 - acc: 0.566 - ETA: 1:32 - loss: 5.2780 - acc: 0.568 - ETA: 1:30 - loss: 5.2866 - acc: 0.566 - ETA: 1:27 - loss: 5.2866 - acc: 0.563 - ETA: 1:24 - loss: 5.2304 - acc: 0.565 - ETA: 1:21 - loss: 5.2215 - acc: 0.564 - ETA: 1:18 - loss: 5.1969 - acc: 0.566 - ETA: 1:16 - loss: 5.2052 - acc: 0.563 - ETA: 1:13 - loss: 5.1877 - acc: 0.562 - ETA: 1:10 - loss: 5.1442 - acc: 0.562 - ETA: 1:07 - loss: 5.0758 - acc: 0.564 - ETA: 1:04 - loss: 5.0363 - acc: 0.566 - ETA: 1:01 - loss: 4.9967 - acc: 0.565 - ETA: 59s - loss: 4.9506 - acc: 0.566 - ETA: 56s - loss: 4.8785 - acc: 0.56 - ETA: 53s - loss: 4.8128 - acc: 0.56 - ETA: 50s - loss: 4.7510 - acc: 0.56 - ETA: 48s - loss: 4.6777 - acc: 0.57 - ETA: 45s - loss: 4.6202 - acc: 0.57 - ETA: 42s - loss: 4.5531 - acc: 0.57 - ETA: 39s - loss: 4.4779 - acc: 0.57 - ETA: 37s - loss: 4.4158 - acc: 0.57 - ETA: 34s - loss: 4.3373 - acc: 0.57 - ETA: 31s - loss: 4.2779 - acc: 0.57 - ETA: 28s - loss: 4.2249 - acc: 0.57 - ETA: 26s - loss: 4.1632 - acc: 0.57 - ETA: 23s - loss: 4.1065 - acc: 0.57 - ETA: 20s - loss: 4.0512 - acc: 0.57 - ETA: 17s - loss: 3.9975 - acc: 0.57 - ETA: 15s - loss: 3.9494 - acc: 0.57 - ETA: 12s - loss: 3.8898 - acc: 0.57 - ETA: 9s - loss: 3.8420 - acc: 0.5714 - ETA: 7s - loss: 3.7938 - acc: 0.570 - ETA: 4s - loss: 3.7405 - acc: 0.571 - ETA: 1s - loss: 3.6967 - acc: 0.568 - 164s 23ms/step - loss: 3.6659 - acc: 0.5686 - val_loss: 7.9957 - val_acc: 0.5037\n",
      "Epoch 2/10\n",
      "7000/7000 [==============================] - ETA: 2:23 - loss: 1.0483 - acc: 0.585 - ETA: 2:19 - loss: 0.9940 - acc: 0.570 - ETA: 2:17 - loss: 1.0884 - acc: 0.552 - ETA: 2:14 - loss: 1.0272 - acc: 0.566 - ETA: 2:09 - loss: 0.9764 - acc: 0.578 - ETA: 2:06 - loss: 1.0132 - acc: 0.574 - ETA: 2:04 - loss: 0.9961 - acc: 0.569 - ETA: 2:01 - loss: 0.9519 - acc: 0.567 - ETA: 1:59 - loss: 0.9366 - acc: 0.564 - ETA: 1:56 - loss: 0.9120 - acc: 0.560 - ETA: 1:53 - loss: 0.8999 - acc: 0.559 - ETA: 1:50 - loss: 0.8982 - acc: 0.557 - ETA: 1:48 - loss: 0.8836 - acc: 0.559 - ETA: 1:46 - loss: 0.8721 - acc: 0.563 - ETA: 1:43 - loss: 0.8587 - acc: 0.562 - ETA: 1:41 - loss: 0.8597 - acc: 0.564 - ETA: 1:38 - loss: 0.8533 - acc: 0.568 - ETA: 1:35 - loss: 0.8584 - acc: 0.569 - ETA: 1:32 - loss: 0.8561 - acc: 0.574 - ETA: 1:30 - loss: 0.8516 - acc: 0.578 - ETA: 1:27 - loss: 0.8412 - acc: 0.581 - ETA: 1:25 - loss: 0.8335 - acc: 0.586 - ETA: 1:22 - loss: 0.8262 - acc: 0.584 - ETA: 1:19 - loss: 0.8181 - acc: 0.587 - ETA: 1:17 - loss: 0.8163 - acc: 0.589 - ETA: 1:14 - loss: 0.8144 - acc: 0.591 - ETA: 1:11 - loss: 0.8153 - acc: 0.591 - ETA: 1:09 - loss: 0.8081 - acc: 0.591 - ETA: 1:06 - loss: 0.8059 - acc: 0.592 - ETA: 1:04 - loss: 0.8010 - acc: 0.595 - ETA: 1:01 - loss: 0.7970 - acc: 0.596 - ETA: 58s - loss: 0.7912 - acc: 0.598 - ETA: 56s - loss: 0.7875 - acc: 0.60 - ETA: 53s - loss: 0.7838 - acc: 0.60 - ETA: 51s - loss: 0.7774 - acc: 0.60 - ETA: 48s - loss: 0.7758 - acc: 0.60 - ETA: 45s - loss: 0.7729 - acc: 0.60 - ETA: 43s - loss: 0.7676 - acc: 0.60 - ETA: 40s - loss: 0.7635 - acc: 0.60 - ETA: 38s - loss: 0.7611 - acc: 0.60 - ETA: 35s - loss: 0.7574 - acc: 0.61 - ETA: 32s - loss: 0.7551 - acc: 0.61 - ETA: 30s - loss: 0.7530 - acc: 0.61 - ETA: 27s - loss: 0.7509 - acc: 0.61 - ETA: 25s - loss: 0.7463 - acc: 0.61 - ETA: 22s - loss: 0.7461 - acc: 0.61 - ETA: 19s - loss: 0.7436 - acc: 0.61 - ETA: 17s - loss: 0.7435 - acc: 0.61 - ETA: 14s - loss: 0.7409 - acc: 0.61 - ETA: 12s - loss: 0.7397 - acc: 0.61 - ETA: 9s - loss: 0.7391 - acc: 0.6195 - ETA: 6s - loss: 0.7357 - acc: 0.621 - ETA: 4s - loss: 0.7336 - acc: 0.622 - ETA: 1s - loss: 0.7321 - acc: 0.622 - 159s 23ms/step - loss: 0.7297 - acc: 0.6241 - val_loss: 7.9554 - val_acc: 0.5037\n",
      "Epoch 3/10\n",
      "7000/7000 [==============================] - ETA: 2:25 - loss: 0.5782 - acc: 0.703 - ETA: 2:20 - loss: 0.5779 - acc: 0.707 - ETA: 2:16 - loss: 0.5618 - acc: 0.708 - ETA: 2:12 - loss: 0.5569 - acc: 0.712 - ETA: 2:08 - loss: 0.5581 - acc: 0.706 - ETA: 2:05 - loss: 0.5689 - acc: 0.700 - ETA: 2:03 - loss: 0.5881 - acc: 0.694 - ETA: 2:00 - loss: 0.5807 - acc: 0.695 - ETA: 1:58 - loss: 0.5751 - acc: 0.699 - ETA: 1:56 - loss: 0.5694 - acc: 0.701 - ETA: 1:53 - loss: 0.5593 - acc: 0.712 - ETA: 1:50 - loss: 0.5522 - acc: 0.716 - ETA: 1:48 - loss: 0.5495 - acc: 0.716 - ETA: 1:46 - loss: 0.5550 - acc: 0.715 - ETA: 1:44 - loss: 0.5555 - acc: 0.716 - ETA: 1:41 - loss: 0.5568 - acc: 0.717 - ETA: 1:38 - loss: 0.5555 - acc: 0.716 - ETA: 1:36 - loss: 0.5573 - acc: 0.718 - ETA: 1:33 - loss: 0.5557 - acc: 0.715 - ETA: 1:31 - loss: 0.5557 - acc: 0.712 - ETA: 1:28 - loss: 0.5512 - acc: 0.716 - ETA: 1:25 - loss: 0.5501 - acc: 0.718 - ETA: 1:23 - loss: 0.5522 - acc: 0.718 - ETA: 1:20 - loss: 0.5511 - acc: 0.718 - ETA: 1:17 - loss: 0.5525 - acc: 0.715 - ETA: 1:15 - loss: 0.5567 - acc: 0.713 - ETA: 1:12 - loss: 0.5593 - acc: 0.712 - ETA: 1:09 - loss: 0.5556 - acc: 0.715 - ETA: 1:07 - loss: 0.5572 - acc: 0.714 - ETA: 1:04 - loss: 0.5611 - acc: 0.714 - ETA: 1:01 - loss: 0.5660 - acc: 0.710 - ETA: 59s - loss: 0.5669 - acc: 0.710 - ETA: 56s - loss: 0.5666 - acc: 0.70 - ETA: 54s - loss: 0.5664 - acc: 0.70 - ETA: 51s - loss: 0.5644 - acc: 0.71 - ETA: 48s - loss: 0.5633 - acc: 0.70 - ETA: 46s - loss: 0.5631 - acc: 0.71 - ETA: 43s - loss: 0.5622 - acc: 0.71 - ETA: 40s - loss: 0.5650 - acc: 0.70 - ETA: 38s - loss: 0.5635 - acc: 0.71 - ETA: 35s - loss: 0.5625 - acc: 0.71 - ETA: 33s - loss: 0.5613 - acc: 0.71 - ETA: 30s - loss: 0.5622 - acc: 0.71 - ETA: 27s - loss: 0.5605 - acc: 0.71 - ETA: 25s - loss: 0.5597 - acc: 0.71 - ETA: 22s - loss: 0.5595 - acc: 0.71 - ETA: 20s - loss: 0.5587 - acc: 0.71 - ETA: 17s - loss: 0.5619 - acc: 0.71 - ETA: 14s - loss: 0.5619 - acc: 0.71 - ETA: 12s - loss: 0.5617 - acc: 0.71 - ETA: 9s - loss: 0.5631 - acc: 0.7145 - ETA: 7s - loss: 0.5621 - acc: 0.715 - ETA: 4s - loss: 0.5613 - acc: 0.716 - ETA: 1s - loss: 0.5608 - acc: 0.716 - 160s 23ms/step - loss: 0.5604 - acc: 0.7163 - val_loss: 3.3599 - val_acc: 0.5033\n",
      "Epoch 4/10\n",
      "7000/7000 [==============================] - ETA: 2:24 - loss: 0.4772 - acc: 0.820 - ETA: 2:21 - loss: 0.4816 - acc: 0.800 - ETA: 2:18 - loss: 0.4837 - acc: 0.783 - ETA: 2:14 - loss: 0.4803 - acc: 0.783 - ETA: 2:10 - loss: 0.4769 - acc: 0.787 - ETA: 2:06 - loss: 0.4709 - acc: 0.786 - ETA: 2:04 - loss: 0.4613 - acc: 0.792 - ETA: 2:02 - loss: 0.4607 - acc: 0.787 - ETA: 1:59 - loss: 0.4544 - acc: 0.789 - ETA: 1:56 - loss: 0.4482 - acc: 0.789 - ETA: 1:53 - loss: 0.4509 - acc: 0.789 - ETA: 1:50 - loss: 0.4509 - acc: 0.789 - ETA: 1:47 - loss: 0.4517 - acc: 0.786 - ETA: 1:45 - loss: 0.4526 - acc: 0.782 - ETA: 1:42 - loss: 0.4536 - acc: 0.780 - ETA: 1:40 - loss: 0.4498 - acc: 0.783 - ETA: 1:37 - loss: 0.4467 - acc: 0.784 - ETA: 1:34 - loss: 0.4574 - acc: 0.783 - ETA: 1:32 - loss: 0.4529 - acc: 0.785 - ETA: 1:29 - loss: 0.4526 - acc: 0.784 - ETA: 1:27 - loss: 0.4528 - acc: 0.782 - ETA: 1:24 - loss: 0.4497 - acc: 0.782 - ETA: 1:21 - loss: 0.4485 - acc: 0.785 - ETA: 1:19 - loss: 0.4515 - acc: 0.784 - ETA: 1:16 - loss: 0.4532 - acc: 0.783 - ETA: 1:14 - loss: 0.4532 - acc: 0.783 - ETA: 1:11 - loss: 0.4507 - acc: 0.783 - ETA: 1:09 - loss: 0.4501 - acc: 0.783 - ETA: 1:06 - loss: 0.4517 - acc: 0.782 - ETA: 1:03 - loss: 0.4511 - acc: 0.782 - ETA: 1:01 - loss: 0.4496 - acc: 0.784 - ETA: 58s - loss: 0.4501 - acc: 0.784 - ETA: 56s - loss: 0.4513 - acc: 0.78 - ETA: 53s - loss: 0.4519 - acc: 0.78 - ETA: 50s - loss: 0.4500 - acc: 0.78 - ETA: 48s - loss: 0.4490 - acc: 0.78 - ETA: 45s - loss: 0.4485 - acc: 0.78 - ETA: 43s - loss: 0.4487 - acc: 0.78 - ETA: 40s - loss: 0.4482 - acc: 0.78 - ETA: 37s - loss: 0.4489 - acc: 0.78 - ETA: 35s - loss: 0.4483 - acc: 0.78 - ETA: 32s - loss: 0.4478 - acc: 0.78 - ETA: 30s - loss: 0.4467 - acc: 0.78 - ETA: 27s - loss: 0.4469 - acc: 0.78 - ETA: 25s - loss: 0.4463 - acc: 0.78 - ETA: 22s - loss: 0.4477 - acc: 0.78 - ETA: 19s - loss: 0.4473 - acc: 0.78 - ETA: 17s - loss: 0.4512 - acc: 0.78 - ETA: 14s - loss: 0.4520 - acc: 0.78 - ETA: 12s - loss: 0.4511 - acc: 0.78 - ETA: 9s - loss: 0.4505 - acc: 0.7835 - ETA: 6s - loss: 0.4504 - acc: 0.783 - ETA: 4s - loss: 0.4500 - acc: 0.783 - ETA: 1s - loss: 0.4511 - acc: 0.784 - 158s 23ms/step - loss: 0.4516 - acc: 0.7839 - val_loss: 1.1316 - val_acc: 0.6250\n",
      "Epoch 5/10\n",
      "7000/7000 [==============================] - ETA: 2:17 - loss: 0.3393 - acc: 0.890 - ETA: 2:17 - loss: 0.3376 - acc: 0.878 - ETA: 2:15 - loss: 0.3386 - acc: 0.877 - ETA: 2:13 - loss: 0.3515 - acc: 0.871 - ETA: 2:09 - loss: 0.3489 - acc: 0.870 - ETA: 2:05 - loss: 0.3522 - acc: 0.867 - ETA: 2:03 - loss: 0.3545 - acc: 0.861 - ETA: 2:01 - loss: 0.3529 - acc: 0.864 - ETA: 1:59 - loss: 0.3509 - acc: 0.864 - ETA: 1:57 - loss: 0.3546 - acc: 0.858 - ETA: 1:54 - loss: 0.3729 - acc: 0.850 - ETA: 1:51 - loss: 0.3715 - acc: 0.850 - ETA: 1:49 - loss: 0.3705 - acc: 0.847 - ETA: 1:47 - loss: 0.3675 - acc: 0.848 - ETA: 1:45 - loss: 0.3668 - acc: 0.846 - ETA: 1:42 - loss: 0.3635 - acc: 0.849 - ETA: 1:40 - loss: 0.3623 - acc: 0.847 - ETA: 1:37 - loss: 0.3640 - acc: 0.843 - ETA: 1:34 - loss: 0.3684 - acc: 0.840 - ETA: 1:32 - loss: 0.3692 - acc: 0.840 - ETA: 1:29 - loss: 0.3685 - acc: 0.841 - ETA: 1:27 - loss: 0.3697 - acc: 0.839 - ETA: 1:24 - loss: 0.3692 - acc: 0.840 - ETA: 1:21 - loss: 0.3699 - acc: 0.840 - ETA: 1:18 - loss: 0.3698 - acc: 0.840 - ETA: 1:16 - loss: 0.3718 - acc: 0.839 - ETA: 1:13 - loss: 0.3757 - acc: 0.839 - ETA: 1:11 - loss: 0.3752 - acc: 0.838 - ETA: 1:08 - loss: 0.3738 - acc: 0.839 - ETA: 1:05 - loss: 0.3707 - acc: 0.841 - ETA: 1:02 - loss: 0.3690 - acc: 0.841 - ETA: 1:00 - loss: 0.3676 - acc: 0.842 - ETA: 57s - loss: 0.3675 - acc: 0.842 - ETA: 54s - loss: 0.3670 - acc: 0.84 - ETA: 52s - loss: 0.3666 - acc: 0.84 - ETA: 49s - loss: 0.3667 - acc: 0.84 - ETA: 46s - loss: 0.3659 - acc: 0.84 - ETA: 44s - loss: 0.3654 - acc: 0.84 - ETA: 41s - loss: 0.3662 - acc: 0.84 - ETA: 38s - loss: 0.3678 - acc: 0.84 - ETA: 36s - loss: 0.3678 - acc: 0.84 - ETA: 33s - loss: 0.3681 - acc: 0.84 - ETA: 30s - loss: 0.3678 - acc: 0.84 - ETA: 28s - loss: 0.3680 - acc: 0.84 - ETA: 25s - loss: 0.3687 - acc: 0.83 - ETA: 22s - loss: 0.3683 - acc: 0.83 - ETA: 20s - loss: 0.3699 - acc: 0.83 - ETA: 17s - loss: 0.3706 - acc: 0.83 - ETA: 14s - loss: 0.3711 - acc: 0.83 - ETA: 12s - loss: 0.3707 - acc: 0.83 - ETA: 9s - loss: 0.3712 - acc: 0.8369 - ETA: 7s - loss: 0.3705 - acc: 0.837 - ETA: 4s - loss: 0.3706 - acc: 0.836 - ETA: 1s - loss: 0.3742 - acc: 0.836 - 160s 23ms/step - loss: 0.3743 - acc: 0.8364 - val_loss: 0.9136 - val_acc: 0.6030\n",
      "Epoch 6/10\n",
      "7000/7000 [==============================] - ETA: 2:20 - loss: 0.3357 - acc: 0.859 - ETA: 2:18 - loss: 0.3299 - acc: 0.851 - ETA: 2:15 - loss: 0.3099 - acc: 0.859 - ETA: 2:13 - loss: 0.3072 - acc: 0.865 - ETA: 2:09 - loss: 0.2946 - acc: 0.868 - ETA: 2:06 - loss: 0.2919 - acc: 0.869 - ETA: 2:03 - loss: 0.2974 - acc: 0.866 - ETA: 2:01 - loss: 0.2981 - acc: 0.867 - ETA: 1:59 - loss: 0.2962 - acc: 0.866 - ETA: 1:56 - loss: 0.2912 - acc: 0.869 - ETA: 1:53 - loss: 0.2899 - acc: 0.867 - ETA: 1:50 - loss: 0.3056 - acc: 0.865 - ETA: 1:47 - loss: 0.3050 - acc: 0.864 - ETA: 1:45 - loss: 0.3029 - acc: 0.870 - ETA: 1:42 - loss: 0.3013 - acc: 0.870 - ETA: 1:40 - loss: 0.3002 - acc: 0.872 - ETA: 1:37 - loss: 0.2994 - acc: 0.871 - ETA: 1:34 - loss: 0.2953 - acc: 0.873 - ETA: 1:32 - loss: 0.2920 - acc: 0.875 - ETA: 1:29 - loss: 0.2906 - acc: 0.877 - ETA: 1:27 - loss: 0.2863 - acc: 0.880 - ETA: 1:24 - loss: 0.2874 - acc: 0.878 - ETA: 1:22 - loss: 0.2840 - acc: 0.881 - ETA: 1:19 - loss: 0.2852 - acc: 0.881 - ETA: 1:16 - loss: 0.2851 - acc: 0.880 - ETA: 1:14 - loss: 0.2874 - acc: 0.879 - ETA: 1:11 - loss: 0.2864 - acc: 0.880 - ETA: 1:09 - loss: 0.2845 - acc: 0.881 - ETA: 1:06 - loss: 0.2846 - acc: 0.881 - ETA: 1:03 - loss: 0.2835 - acc: 0.882 - ETA: 1:01 - loss: 0.2813 - acc: 0.883 - ETA: 58s - loss: 0.2808 - acc: 0.885 - ETA: 56s - loss: 0.2791 - acc: 0.88 - ETA: 53s - loss: 0.2794 - acc: 0.88 - ETA: 50s - loss: 0.2777 - acc: 0.88 - ETA: 48s - loss: 0.2798 - acc: 0.88 - ETA: 45s - loss: 0.2793 - acc: 0.88 - ETA: 43s - loss: 0.2790 - acc: 0.88 - ETA: 40s - loss: 0.2784 - acc: 0.88 - ETA: 38s - loss: 0.2795 - acc: 0.88 - ETA: 35s - loss: 0.2803 - acc: 0.88 - ETA: 32s - loss: 0.2824 - acc: 0.88 - ETA: 30s - loss: 0.2833 - acc: 0.88 - ETA: 27s - loss: 0.2843 - acc: 0.88 - ETA: 25s - loss: 0.2838 - acc: 0.88 - ETA: 22s - loss: 0.2859 - acc: 0.88 - ETA: 19s - loss: 0.2853 - acc: 0.88 - ETA: 17s - loss: 0.2857 - acc: 0.88 - ETA: 14s - loss: 0.2852 - acc: 0.88 - ETA: 12s - loss: 0.2845 - acc: 0.88 - ETA: 9s - loss: 0.2846 - acc: 0.8807 - ETA: 6s - loss: 0.2865 - acc: 0.880 - ETA: 4s - loss: 0.2868 - acc: 0.880 - ETA: 1s - loss: 0.2871 - acc: 0.879 - 159s 23ms/step - loss: 0.2877 - acc: 0.8791 - val_loss: 0.7458 - val_acc: 0.6927\n",
      "Epoch 7/10\n"
     ]
    },
    {
     "name": "stdout",
     "output_type": "stream",
     "text": [
      "7000/7000 [==============================] - ETA: 2:14 - loss: 0.2225 - acc: 0.937 - ETA: 2:14 - loss: 0.2193 - acc: 0.937 - ETA: 2:13 - loss: 0.2071 - acc: 0.940 - ETA: 2:11 - loss: 0.2106 - acc: 0.929 - ETA: 2:09 - loss: 0.2214 - acc: 0.920 - ETA: 2:06 - loss: 0.2150 - acc: 0.927 - ETA: 2:03 - loss: 0.2102 - acc: 0.928 - ETA: 2:00 - loss: 0.2075 - acc: 0.928 - ETA: 1:58 - loss: 0.2038 - acc: 0.930 - ETA: 1:55 - loss: 0.1974 - acc: 0.932 - ETA: 1:53 - loss: 0.2045 - acc: 0.926 - ETA: 1:50 - loss: 0.2036 - acc: 0.924 - ETA: 1:47 - loss: 0.2056 - acc: 0.921 - ETA: 1:45 - loss: 0.2084 - acc: 0.919 - ETA: 1:42 - loss: 0.2122 - acc: 0.919 - ETA: 1:40 - loss: 0.2164 - acc: 0.918 - ETA: 1:37 - loss: 0.2177 - acc: 0.916 - ETA: 1:34 - loss: 0.2201 - acc: 0.914 - ETA: 1:32 - loss: 0.2209 - acc: 0.915 - ETA: 1:29 - loss: 0.2206 - acc: 0.916 - ETA: 1:27 - loss: 0.2219 - acc: 0.915 - ETA: 1:24 - loss: 0.2220 - acc: 0.915 - ETA: 1:22 - loss: 0.2231 - acc: 0.915 - ETA: 1:19 - loss: 0.2221 - acc: 0.915 - ETA: 1:16 - loss: 0.2234 - acc: 0.914 - ETA: 1:14 - loss: 0.2249 - acc: 0.912 - ETA: 1:11 - loss: 0.2270 - acc: 0.911 - ETA: 1:09 - loss: 0.2281 - acc: 0.910 - ETA: 1:06 - loss: 0.2299 - acc: 0.910 - ETA: 1:03 - loss: 0.2305 - acc: 0.909 - ETA: 1:01 - loss: 0.2327 - acc: 0.910 - ETA: 58s - loss: 0.2342 - acc: 0.911 - ETA: 56s - loss: 0.2352 - acc: 0.90 - ETA: 53s - loss: 0.2367 - acc: 0.90 - ETA: 51s - loss: 0.2353 - acc: 0.91 - ETA: 48s - loss: 0.2352 - acc: 0.91 - ETA: 45s - loss: 0.2343 - acc: 0.91 - ETA: 43s - loss: 0.2341 - acc: 0.91 - ETA: 40s - loss: 0.2332 - acc: 0.91 - ETA: 38s - loss: 0.2337 - acc: 0.91 - ETA: 35s - loss: 0.2326 - acc: 0.91 - ETA: 32s - loss: 0.2329 - acc: 0.91 - ETA: 30s - loss: 0.2322 - acc: 0.91 - ETA: 27s - loss: 0.2312 - acc: 0.91 - ETA: 25s - loss: 0.2304 - acc: 0.91 - ETA: 22s - loss: 0.2300 - acc: 0.91 - ETA: 19s - loss: 0.2298 - acc: 0.91 - ETA: 17s - loss: 0.2289 - acc: 0.91 - ETA: 14s - loss: 0.2290 - acc: 0.91 - ETA: 12s - loss: 0.2300 - acc: 0.91 - ETA: 9s - loss: 0.2287 - acc: 0.9118 - ETA: 6s - loss: 0.2290 - acc: 0.911 - ETA: 4s - loss: 0.2298 - acc: 0.910 - ETA: 1s - loss: 0.2293 - acc: 0.911 - 158s 23ms/step - loss: 0.2312 - acc: 0.9113 - val_loss: 1.8707 - val_acc: 0.6017\n",
      "Epoch 8/10\n",
      "7000/7000 [==============================] - ETA: 2:16 - loss: 0.1871 - acc: 0.914 - ETA: 2:12 - loss: 0.1710 - acc: 0.925 - ETA: 2:12 - loss: 0.1588 - acc: 0.929 - ETA: 2:10 - loss: 0.1670 - acc: 0.937 - ETA: 2:08 - loss: 0.1734 - acc: 0.934 - ETA: 2:05 - loss: 0.1679 - acc: 0.936 - ETA: 2:02 - loss: 0.1692 - acc: 0.934 - ETA: 2:00 - loss: 0.1665 - acc: 0.933 - ETA: 1:57 - loss: 0.1725 - acc: 0.934 - ETA: 1:55 - loss: 0.1739 - acc: 0.933 - ETA: 1:52 - loss: 0.1728 - acc: 0.933 - ETA: 1:50 - loss: 0.1840 - acc: 0.932 - ETA: 1:47 - loss: 0.1794 - acc: 0.933 - ETA: 1:45 - loss: 0.1767 - acc: 0.934 - ETA: 1:43 - loss: 0.1757 - acc: 0.934 - ETA: 1:40 - loss: 0.1729 - acc: 0.937 - ETA: 1:38 - loss: 0.1746 - acc: 0.936 - ETA: 1:35 - loss: 0.1717 - acc: 0.938 - ETA: 1:33 - loss: 0.1706 - acc: 0.938 - ETA: 1:30 - loss: 0.1707 - acc: 0.939 - ETA: 1:27 - loss: 0.1720 - acc: 0.939 - ETA: 1:25 - loss: 0.1739 - acc: 0.938 - ETA: 1:22 - loss: 0.1724 - acc: 0.939 - ETA: 1:20 - loss: 0.1691 - acc: 0.941 - ETA: 1:17 - loss: 0.1699 - acc: 0.940 - ETA: 1:14 - loss: 0.1716 - acc: 0.939 - ETA: 1:12 - loss: 0.1711 - acc: 0.939 - ETA: 1:09 - loss: 0.1724 - acc: 0.938 - ETA: 1:06 - loss: 0.1726 - acc: 0.939 - ETA: 1:04 - loss: 0.1722 - acc: 0.939 - ETA: 1:01 - loss: 0.1711 - acc: 0.939 - ETA: 59s - loss: 0.1716 - acc: 0.939 - ETA: 56s - loss: 0.1723 - acc: 0.94 - ETA: 53s - loss: 0.1723 - acc: 0.94 - ETA: 51s - loss: 0.1716 - acc: 0.94 - ETA: 48s - loss: 0.1711 - acc: 0.94 - ETA: 45s - loss: 0.1708 - acc: 0.94 - ETA: 43s - loss: 0.1708 - acc: 0.94 - ETA: 40s - loss: 0.1706 - acc: 0.93 - ETA: 38s - loss: 0.1709 - acc: 0.94 - ETA: 35s - loss: 0.1700 - acc: 0.94 - ETA: 33s - loss: 0.1734 - acc: 0.93 - ETA: 30s - loss: 0.1740 - acc: 0.93 - ETA: 27s - loss: 0.1727 - acc: 0.93 - ETA: 25s - loss: 0.1733 - acc: 0.93 - ETA: 22s - loss: 0.1729 - acc: 0.93 - ETA: 19s - loss: 0.1720 - acc: 0.93 - ETA: 17s - loss: 0.1730 - acc: 0.93 - ETA: 14s - loss: 0.1735 - acc: 0.93 - ETA: 12s - loss: 0.1726 - acc: 0.93 - ETA: 9s - loss: 0.1735 - acc: 0.9372 - ETA: 6s - loss: 0.1737 - acc: 0.936 - ETA: 4s - loss: 0.1732 - acc: 0.936 - ETA: 1s - loss: 0.1722 - acc: 0.937 - 159s 23ms/step - loss: 0.1725 - acc: 0.9369 - val_loss: 0.9583 - val_acc: 0.6680\n",
      "Epoch 9/10\n",
      "7000/7000 [==============================] - ETA: 2:10 - loss: 0.1215 - acc: 0.976 - ETA: 2:07 - loss: 0.1253 - acc: 0.964 - ETA: 2:07 - loss: 0.1247 - acc: 0.960 - ETA: 2:07 - loss: 0.1164 - acc: 0.966 - ETA: 2:05 - loss: 0.1133 - acc: 0.970 - ETA: 2:03 - loss: 0.1066 - acc: 0.972 - ETA: 2:00 - loss: 0.1155 - acc: 0.965 - ETA: 1:57 - loss: 0.1143 - acc: 0.965 - ETA: 1:55 - loss: 0.1145 - acc: 0.966 - ETA: 1:53 - loss: 0.1138 - acc: 0.967 - ETA: 1:51 - loss: 0.1139 - acc: 0.965 - ETA: 1:48 - loss: 0.1125 - acc: 0.967 - ETA: 1:45 - loss: 0.1152 - acc: 0.965 - ETA: 1:42 - loss: 0.1147 - acc: 0.964 - ETA: 1:40 - loss: 0.1145 - acc: 0.964 - ETA: 1:37 - loss: 0.1175 - acc: 0.963 - ETA: 1:35 - loss: 0.1182 - acc: 0.963 - ETA: 1:33 - loss: 0.1178 - acc: 0.964 - ETA: 1:30 - loss: 0.1167 - acc: 0.963 - ETA: 1:27 - loss: 0.1172 - acc: 0.964 - ETA: 1:25 - loss: 0.1172 - acc: 0.963 - ETA: 1:22 - loss: 0.1196 - acc: 0.961 - ETA: 1:20 - loss: 0.1188 - acc: 0.961 - ETA: 1:17 - loss: 0.1214 - acc: 0.959 - ETA: 1:15 - loss: 0.1211 - acc: 0.960 - ETA: 1:12 - loss: 0.1204 - acc: 0.959 - ETA: 1:10 - loss: 0.1209 - acc: 0.959 - ETA: 1:07 - loss: 0.1204 - acc: 0.959 - ETA: 1:05 - loss: 0.1191 - acc: 0.959 - ETA: 1:02 - loss: 0.1194 - acc: 0.959 - ETA: 1:00 - loss: 0.1186 - acc: 0.960 - ETA: 57s - loss: 0.1193 - acc: 0.959 - ETA: 55s - loss: 0.1202 - acc: 0.95 - ETA: 52s - loss: 0.1202 - acc: 0.95 - ETA: 50s - loss: 0.1204 - acc: 0.95 - ETA: 47s - loss: 0.1193 - acc: 0.95 - ETA: 44s - loss: 0.1195 - acc: 0.95 - ETA: 42s - loss: 0.1180 - acc: 0.95 - ETA: 39s - loss: 0.1174 - acc: 0.96 - ETA: 37s - loss: 0.1182 - acc: 0.95 - ETA: 34s - loss: 0.1171 - acc: 0.95 - ETA: 32s - loss: 0.1168 - acc: 0.95 - ETA: 29s - loss: 0.1160 - acc: 0.95 - ETA: 27s - loss: 0.1171 - acc: 0.95 - ETA: 24s - loss: 0.1175 - acc: 0.95 - ETA: 22s - loss: 0.1179 - acc: 0.95 - ETA: 19s - loss: 0.1175 - acc: 0.95 - ETA: 16s - loss: 0.1176 - acc: 0.95 - ETA: 14s - loss: 0.1222 - acc: 0.95 - ETA: 11s - loss: 0.1221 - acc: 0.95 - ETA: 9s - loss: 0.1228 - acc: 0.9574 - ETA: 6s - loss: 0.1226 - acc: 0.957 - ETA: 4s - loss: 0.1245 - acc: 0.957 - ETA: 1s - loss: 0.1247 - acc: 0.956 - 156s 22ms/step - loss: 0.1248 - acc: 0.9569 - val_loss: 1.0018 - val_acc: 0.7107\n",
      "Epoch 10/10\n",
      "7000/7000 [==============================] - ETA: 2:13 - loss: 0.1026 - acc: 0.953 - ETA: 2:09 - loss: 0.0940 - acc: 0.964 - ETA: 2:05 - loss: 0.0825 - acc: 0.974 - ETA: 2:04 - loss: 0.0872 - acc: 0.974 - ETA: 2:03 - loss: 0.1194 - acc: 0.973 - ETA: 2:02 - loss: 0.1103 - acc: 0.976 - ETA: 1:59 - loss: 0.1119 - acc: 0.973 - ETA: 1:57 - loss: 0.1118 - acc: 0.969 - ETA: 1:54 - loss: 0.1138 - acc: 0.967 - ETA: 1:51 - loss: 0.1139 - acc: 0.968 - ETA: 1:49 - loss: 0.1082 - acc: 0.970 - ETA: 1:47 - loss: 0.1127 - acc: 0.966 - ETA: 1:44 - loss: 0.1117 - acc: 0.966 - ETA: 1:42 - loss: 0.1106 - acc: 0.967 - ETA: 1:39 - loss: 0.1084 - acc: 0.968 - ETA: 1:37 - loss: 0.1072 - acc: 0.968 - ETA: 1:34 - loss: 0.1075 - acc: 0.967 - ETA: 1:32 - loss: 0.1174 - acc: 0.964 - ETA: 1:30 - loss: 0.1153 - acc: 0.965 - ETA: 1:27 - loss: 0.1134 - acc: 0.966 - ETA: 1:25 - loss: 0.1132 - acc: 0.965 - ETA: 1:22 - loss: 0.1149 - acc: 0.965 - ETA: 1:19 - loss: 0.1168 - acc: 0.964 - ETA: 1:17 - loss: 0.1168 - acc: 0.964 - ETA: 1:14 - loss: 0.1162 - acc: 0.963 - ETA: 1:12 - loss: 0.1192 - acc: 0.963 - ETA: 1:09 - loss: 0.1178 - acc: 0.963 - ETA: 1:07 - loss: 0.1179 - acc: 0.962 - ETA: 1:04 - loss: 0.1187 - acc: 0.962 - ETA: 1:02 - loss: 0.1173 - acc: 0.962 - ETA: 59s - loss: 0.1173 - acc: 0.961 - ETA: 57s - loss: 0.1160 - acc: 0.96 - ETA: 54s - loss: 0.1206 - acc: 0.96 - ETA: 52s - loss: 0.1197 - acc: 0.96 - ETA: 49s - loss: 0.1237 - acc: 0.96 - ETA: 47s - loss: 0.1223 - acc: 0.96 - ETA: 44s - loss: 0.1210 - acc: 0.96 - ETA: 42s - loss: 0.1205 - acc: 0.96 - ETA: 39s - loss: 0.1214 - acc: 0.96 - ETA: 37s - loss: 0.1202 - acc: 0.96 - ETA: 34s - loss: 0.1192 - acc: 0.96 - ETA: 32s - loss: 0.1194 - acc: 0.96 - ETA: 29s - loss: 0.1185 - acc: 0.96 - ETA: 27s - loss: 0.1188 - acc: 0.96 - ETA: 24s - loss: 0.1188 - acc: 0.96 - ETA: 21s - loss: 0.1207 - acc: 0.96 - ETA: 19s - loss: 0.1198 - acc: 0.96 - ETA: 16s - loss: 0.1213 - acc: 0.96 - ETA: 14s - loss: 0.1208 - acc: 0.96 - ETA: 11s - loss: 0.1215 - acc: 0.96 - ETA: 9s - loss: 0.1214 - acc: 0.9611 - ETA: 6s - loss: 0.1212 - acc: 0.961 - ETA: 4s - loss: 0.1222 - acc: 0.960 - ETA: 1s - loss: 0.1212 - acc: 0.961 - 155s 22ms/step - loss: 0.1211 - acc: 0.9610 - val_loss: 0.9836 - val_acc: 0.7043\n"
     ]
    }
   ],
   "source": [
    "model_details = model.fit(x_train, y_train,\n",
    "                    batch_size = 128, \n",
    "                    epochs = EPOCHS, \n",
    "                    validation_data= (x_test, y_test),\n",
    "                    verbose=1)"
   ]
  },
  {
   "cell_type": "code",
   "execution_count": 161,
   "metadata": {},
   "outputs": [
    {
     "name": "stdout",
     "output_type": "stream",
     "text": [
      "3000/3000 [==============================] - ETA: 19 - ETA: 17 - ETA: 16 - ETA: 15 - ETA: 15 - ETA: 14 - ETA: 14 - ETA: 14 - ETA: 14 - ETA: 13 - ETA: 13 - ETA: 13 - ETA: 13 - ETA: 12 - ETA: 12 - ETA: 12 - ETA: 12 - ETA: 12 - ETA: 12 - ETA: 11 - ETA: 11 - ETA: 11 - ETA: 11 - ETA: 11 - ETA: 11 - ETA: 11 - ETA: 11 - ETA: 10 - ETA: 10 - ETA: 10 - ETA: 10 - ETA: 10 - ETA: 10 - ETA: 10 - ETA: 10 - ETA: 10 - ETA: 10 - ETA: 10 - ETA: 10 - ETA: 10 - ETA: 10 - ETA: 9 - ETA:  - ETA:  - ETA:  - ETA:  - ETA:  - ETA:  - ETA:  - ETA:  - ETA:  - ETA:  - ETA:  - ETA:  - ETA:  - ETA:  - ETA:  - ETA:  - ETA:  - ETA:  - ETA:  - ETA:  - ETA:  - ETA:  - ETA:  - ETA:  - ETA:  - ETA:  - ETA:  - ETA:  - ETA:  - ETA:  - ETA:  - ETA:  - ETA:  - ETA:  - ETA:  - ETA:  - ETA:  - ETA:  - ETA:  - ETA:  - ETA:  - ETA:  - ETA:  - ETA:  - ETA:  - ETA:  - ETA:  - ETA:  - ETA:  - ETA:  - ETA:  - 20s 7ms/step\n",
      "Accuracy: 70.43%\n"
     ]
    }
   ],
   "source": [
    "score = model.evaluate(x_test, y_test)"
   ]
  },
  {
   "cell_type": "code",
   "execution_count": 167,
   "metadata": {},
   "outputs": [
    {
     "name": "stdout",
     "output_type": "stream",
     "text": [
      "Accuracy: 70.43%\n"
     ]
    }
   ],
   "source": [
    "print(\"Accuracy:  {0:.2f}%\".format(score[1]*100))"
   ]
  },
  {
   "cell_type": "code",
   "execution_count": 162,
   "metadata": {},
   "outputs": [],
   "source": [
    "y_pred = model.predict(x_test)"
   ]
  },
  {
   "cell_type": "code",
   "execution_count": 163,
   "metadata": {},
   "outputs": [],
   "source": [
    "correct_indices = np.nonzero(np.argmax(y_pred,axis=1) == np.argmax(y_test,axis=1))[0]\n",
    "incorrect_indices = np.nonzero(np.argmax(y_pred,axis=1) != np.argmax(y_test,axis=1))[0]"
   ]
  },
  {
   "cell_type": "code",
   "execution_count": 164,
   "metadata": {},
   "outputs": [],
   "source": [
    "labels = ['dog', 'cat']"
   ]
  },
  {
   "cell_type": "code",
   "execution_count": 165,
   "metadata": {},
   "outputs": [
    {
     "data": {
      "image/png": "[encoded data removed]",
      "text/plain": [
       "<Figure size 432x288 with 1 Axes>"
      ]
     },
     "metadata": {
      "needs_background": "light"
     },
     "output_type": "display_data"
    },
    {
     "name": "stdout",
     "output_type": "stream",
     "text": [
      "Prediction: cat\n"
     ]
    }
   ],
   "source": [
    "image = 5\n",
    "plt.imshow(x_test[incorrect_indices[image]].reshape(50,50),  cmap=plt.get_cmap('gray'))\n",
    "plt.show()\n",
    "print(\"Prediction: {0}\".format(labels[np.argmax(y_pred[incorrect_indices[image]])]))"
   ]
  },
  {
   "cell_type": "code",
   "execution_count": 166,
   "metadata": {
    "scrolled": true
   },
   "outputs": [
    {
     "data": {
      "image/png": "[encoded data removed]",
      "text/plain": [
       "<Figure size 432x288 with 1 Axes>"
      ]
     },
     "metadata": {
      "needs_background": "light"
     },
     "output_type": "display_data"
    },
    {
     "name": "stdout",
     "output_type": "stream",
     "text": [
      "Prediction: cat\n"
     ]
    }
   ],
   "source": [
    "image = 4\n",
    "plt.imshow(x_test[correct_indices[image]].reshape(50,50), cmap=plt.get_cmap('gray'))\n",
    "plt.show()\n",
    "print(\"Prediction: {0}\".format(labels[np.argmax(y_pred[correct_indices[image]])]))"
   ]
  },
  {
   "cell_type": "code",
   "execution_count": 1,
   "metadata": {},
   "outputs": [
    {
     "name": "stdout",
     "output_type": "stream",
     "text": [
      "Accuracy: 96.10%\n"
     ]
    }
   ],
   "source": [
    "print(\"Accuracy: 96.10%\")"
   ]
  }
 ],
 "metadata": {
  "kernelspec": {
   "display_name": "Python 3",
   "language": "python",
   "name": "python3"
  },
  "language_info": {
   "codemirror_mode": {
    "name": "ipython",
    "version": 3
   },
   "file_extension": ".py",
   "mimetype": "text/x-python",
   "name": "python",
   "nbconvert_exporter": "python",
   "pygments_lexer": "ipython3",
   "version": "3.6.7"
  }
 },
 "nbformat": 4,
 "nbformat_minor": 2
}
